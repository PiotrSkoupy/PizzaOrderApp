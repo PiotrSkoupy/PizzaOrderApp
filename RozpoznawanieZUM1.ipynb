{
  "nbformat": 4,
  "nbformat_minor": 0,
  "metadata": {
    "colab": {
      "name": "RozpoznawanieZUM1",
      "provenance": [],
      "collapsed_sections": [],
      "include_colab_link": true
    },
    "kernelspec": {
      "display_name": "Python 3 (ipykernel)",
      "language": "python",
      "name": "python3"
    },
    "language_info": {
      "codemirror_mode": {
        "name": "ipython",
        "version": 3
      },
      "file_extension": ".py",
      "mimetype": "text/x-python",
      "name": "python",
      "nbconvert_exporter": "python",
      "pygments_lexer": "ipython3",
      "version": "3.9.7"
    }
  },
  "cells": [
    {
      "cell_type": "markdown",
      "metadata": {
        "id": "view-in-github",
        "colab_type": "text"
      },
      "source": [
        "<a href=\"https://colab.research.google.com/github/PiotrSkoupy/PizzaOrderApp/blob/main/RozpoznawanieZUM1.ipynb\" target=\"_parent\"><img src=\"https://colab.research.google.com/assets/colab-badge.svg\" alt=\"Open In Colab\"/></a>"
      ]
    },
    {
      "cell_type": "markdown",
      "metadata": {
        "id": "dzWRz5F9h2ZB"
      },
      "source": [
        "# Rozpoznawanie mowy\n",
        "\n",
        "## Przygotowanie środowiska\n",
        "\n",
        "Zaczniemy od ściągnięcia zestawu programów z pakietu systemu Kaldi, skompilowanych żeby się uruchamiały w środowisku Colab. Poniższy blok ściąga programy i bibiloteki i umieszcza ich w odpowiednim miejscu żeby były widoczne w systemie."
      ]
    },
    {
      "cell_type": "code",
      "metadata": {
        "id": "KXc89OlivxgD"
      },
      "source": [
        "# !wget https://github.com/danijel3/ASRforNLP/releases/download/v1.0/kaldi.tar.xz\n",
        "\n",
        "# !tar xvf kaldi.tar.xz -C / > /dev/null\n",
        "# %rm kaldi.tar.xz\n",
        "\n",
        "# !for f in $(find /opt/kaldi -name *.so*) ; do ln -sf $f /usr/local/lib/$(basename $f) ; done\n",
        "# !for f in $(find /opt/kaldi/src -not -name *.so* -type f -executable) ; do ln -s $f /usr/local/bin/$(basename $f) ; done\n",
        "# !for f in $(find /opt/kaldi/tools -not -name *.so* -type f -executable) ; do ln -s $f /usr/local/bin/$(basename $f) ; done\n",
        "\n",
        "# !ldconfig\n",
        "# !wget https://raw.githubusercontent.com/danijel3/ASRforNLP/main/lexicon.py\n",
        "from lexicon import words_to_lexicon\n",
        "import openfst_python as fst\n"
      ],
      "execution_count": 175,
      "outputs": []
    },
    {
      "cell_type": "markdown",
      "metadata": {
        "id": "HTDSp7F3H-Ip"
      },
      "source": [
        "Następnie ściągniemy przykładowe nagrania i zbiór tekstów do trenowania modelu języka."
      ]
    },
    {
      "cell_type": "code",
      "metadata": {
        "id": "V0uVfJ_EzeAb"
      },
      "source": [
        "# !wget https://github.com/danijel3/ASRforNLP/releases/download/v1.1/pizza-audio.tar.xz\n",
        "# !wget https://github.com/danijel3/ASRforNLP/releases/download/v1.1/pizza-text.xz\n",
        "\n",
        "# !tar xvf pizza-audio.tar.xz > /dev/null\n",
        "# !xz -d pizza-text.xz\n",
        "\n",
        "# %rm pizza-audio.tar.xz"
      ],
      "execution_count": 176,
      "outputs": []
    },
    {
      "cell_type": "code",
      "metadata": {
        "id": "oUwdBgYwUpLy"
      },
      "source": [
        "# !wget https://github.com/danijel3/ASRforNLP/releases/download/v1.2/models.tar.xz\n",
        "\n",
        "# !tar xvf models.tar.xz > /dev/null\n",
        "\n",
        "# %rm models.tar.xz"
      ],
      "execution_count": 177,
      "outputs": []
    },
    {
      "cell_type": "code",
      "metadata": {
        "id": "PuEr80j8ip2I"
      },
      "source": [
        "# %mkdir grammar\n",
        "# %cd grammar\n",
        "# !ln -s ../phonetisaurus\n",
        "# !ln -s ../online\n",
        "# !ln -s ../pizza-audio"
      ],
      "execution_count": 178,
      "outputs": []
    },
    {
      "cell_type": "code",
      "metadata": {
        "id": "OIfPcwgnP0pp"
      },
      "source": [
        "# %cd /content\n",
        "# %mkdir lm\n",
        "# %cd lm\n",
        "# !ln -s ../phonetisaurus\n",
        "# !ln -s ../online\n",
        "# !ln -s ../pizza-audio\n",
        "# !ln -s ../pizza-text"
      ],
      "execution_count": 179,
      "outputs": []
    },
    {
      "cell_type": "markdown",
      "metadata": {
        "id": "7mTHmkgCjeD5"
      },
      "source": [
        "### Podstawy modelu n-gramowego\n",
        "\n",
        "Model języka jest trenowany na zbiorze przykładowych zdań. Stwórzmy plik zawierający kilka przykładowych zdań. Użyj polecenia `%%writefile test.txt` żeby stworzyć plik z jednym zdaniem w linii: \"*ala ma kota*\", \"*ala ma psa*\" i \"*jan ma kota*\":"
      ]
    },
    {
      "cell_type": "code",
      "metadata": {
        "id": "vM-0ZbaiNvuB"
      },
      "source": [
        "# %%writefile test.txt\n",
        "# ala ma kota\n",
        "# ala ma psa\n",
        "# jan ma kota"
      ],
      "execution_count": 180,
      "outputs": []
    },
    {
      "cell_type": "code",
      "metadata": {
        "id": "DnjoRDpSnkhS"
      },
      "source": [
        "!ngram-count -text test.txt -order 3 -wbdiscount -lm out.arpa"
      ],
      "execution_count": 181,
      "outputs": []
    },
    {
      "cell_type": "markdown",
      "metadata": {
        "id": "CjZY-SQBemVd"
      },
      "source": [
        "Plik ARPA jest formatem tekstowym i można łatwo odczytać jego zawartość. Użyj polecenia `%cat out.arpa` żeby go wyświetlić:"
      ]
    },
    {
      "cell_type": "code",
      "metadata": {
        "id": "bI8nW3wKNxqt",
        "colab": {
          "base_uri": "https://localhost:8080/"
        },
        "outputId": "1b18d7d0-1618-4ce6-8d6f-83002a06e2df"
      },
      "source": [
        "%cat out.arpa"
      ],
      "execution_count": 182,
      "outputs": [
        {
          "output_type": "stream",
          "name": "stdout",
          "text": [
            "\n",
            "\\data\\\n",
            "ngram 1=7\n",
            "ngram 2=8\n",
            "ngram 3=2\n",
            "\n",
            "\\1-grams:\n",
            "-0.6532125\t</s>\n",
            "-99\t<s>\t-0.2566108\n",
            "-0.7781513\tala\t-0.3679768\n",
            "-0.9542425\tjan\t-0.1918855\n",
            "-0.7781513\tkota\t-0.3679768\n",
            "-0.6532125\tma\t-0.2566108\n",
            "-0.9542425\tpsa\t-0.1918855\n",
            "\n",
            "\\2-grams:\n",
            "-0.39794\t<s> ala\t0\n",
            "-0.69897\t<s> jan\n",
            "-0.1760913\tala ma\n",
            "-0.30103\tjan ma\n",
            "-0.1760913\tkota </s>\n",
            "-0.39794\tma kota\t0\n",
            "-0.69897\tma psa\n",
            "-0.30103\tpsa </s>\n",
            "\n",
            "\\3-grams:\n",
            "-0.1760913\t<s> ala ma\n",
            "-0.1760913\tma kota </s>\n",
            "\n",
            "\\end\\\n"
          ]
        }
      ]
    },
    {
      "cell_type": "code",
      "metadata": {
        "id": "Nb_PBdRENzYY",
        "colab": {
          "base_uri": "https://localhost:8080/"
        },
        "outputId": "10189720-2b27-42f5-afd5-28029656cea3"
      },
      "source": [
        "!pip install arpa\n",
        "import arpa\n",
        "\n",
        "lm=arpa.loadf('out.arpa')[0]\n",
        "\n",
        "print(lm.p('ala ma'))\n",
        "print(lm.p('jan ma psa'))"
      ],
      "execution_count": 183,
      "outputs": [
        {
          "output_type": "stream",
          "name": "stdout",
          "text": [
            "Requirement already satisfied: arpa in /usr/local/lib/python3.7/dist-packages (0.1.0b4)\n",
            "0.6666666038148176\n",
            "0.20000000199681048\n"
          ]
        }
      ]
    },
    {
      "cell_type": "markdown",
      "metadata": {
        "id": "s7zDCztVfXSi"
      },
      "source": [
        "Jedną z podstatowych miar jakości modelu języka to tzw. *perplexity*. Liczymy go stotując wytrenowany model języka na niezależnym zbiorze testowym. Zróbmy przykładowy zbiór zawierający jedno zdanie (np. *ala ma osę*) i zapiszmy w pliku `eval.txt`:"
      ]
    },
    {
      "cell_type": "code",
      "metadata": {
        "id": "ja6TsxwcN1VM",
        "colab": {
          "base_uri": "https://localhost:8080/"
        },
        "outputId": "d5c6c455-0228-488c-8dff-7b48414d3a7c"
      },
      "source": [
        "%%writefile eval.txt\n",
        "ala ma osę"
      ],
      "execution_count": 184,
      "outputs": [
        {
          "output_type": "stream",
          "name": "stdout",
          "text": [
            "Overwriting eval.txt\n"
          ]
        }
      ]
    },
    {
      "cell_type": "markdown",
      "metadata": {
        "id": "tYpJU7Gofa-N"
      },
      "source": [
        "Do wyliczenia perplexity użyjemy programu `ngram` i użyjemy w nim opcję `-lm out.arpa` do wczytania pliku z modelem oraz `-ppl eval.txt` żeby policzyć perplexity na wybranym pliku:"
      ]
    },
    {
      "cell_type": "code",
      "metadata": {
        "id": "bWa5omTuN7aL",
        "colab": {
          "base_uri": "https://localhost:8080/"
        },
        "outputId": "3e928ec1-a89c-44da-8f99-76de16786ead"
      },
      "source": [
        "!ngram -lm out.arpa -ppl eval.txt"
      ],
      "execution_count": 185,
      "outputs": [
        {
          "output_type": "stream",
          "name": "stdout",
          "text": [
            "file eval.txt: 1 sentences, 3 words, 1 OOVs\n",
            "0 zeroprobs, logprob= -1.227244 ppl= 2.564964 ppl1= 4.107919\n"
          ]
        }
      ]
    },
    {
      "cell_type": "markdown",
      "metadata": {
        "id": "USuKj-7MfgoL"
      },
      "source": [
        "Wyniki zawierają ilość zdań, słów i wyrazów spoza słownika (OOV - out-of-vocabulary). Zawiera też wyliczony logprob całego korpusu oraz perplexity wyczlione uwzględniając (`ppl1`) i nieuwzlgędniając (`ppl`) sztucznie dodane tokeny `<s>` oraz `</s>`. Im mniejsza wartość PPL, tym model lepiej opisuje testowy zbiór tekstów.\n",
        "\n",
        "Program `ngram` ma mnóstwo zastosowań, głównie związanych z edycją i manipulacją wytrenowanego modelu języka. Ma też opcję `-gen <N>` do wygenerowania losowych zdań z konkretnego modelu języka. Użyj go żeby wygenerować 10 losowych zdań:"
      ]
    },
    {
      "cell_type": "code",
      "metadata": {
        "id": "96uzqTTdN8m6",
        "colab": {
          "base_uri": "https://localhost:8080/"
        },
        "outputId": "1b187c9b-a55a-4911-d37d-3964262655c3"
      },
      "source": [
        "!ngram -lm out.arpa -gen 10"
      ],
      "execution_count": 186,
      "outputs": [
        {
          "output_type": "stream",
          "name": "stdout",
          "text": [
            "ala ma kota\n",
            "ala ma kota\n",
            "jan ma ma\n",
            "jan ala\n",
            "jan ala ma kota ala ma kota\n",
            "\n",
            "psa\n",
            "kota\n",
            "kota kota\n",
            "jan ma kota\n"
          ]
        }
      ]
    },
    {
      "cell_type": "markdown",
      "metadata": {
        "id": "-dFtLQnAfthE"
      },
      "source": [
        "Użyjmy teraz narzędzia `arpa2fst` do wygenerowania transducera odpowiadającego powyższemu modelu języka:"
      ]
    },
    {
      "cell_type": "code",
      "metadata": {
        "id": "2Q2lpxBUN_F1",
        "colab": {
          "base_uri": "https://localhost:8080/"
        },
        "outputId": "9e989e82-ac85-45f2-b245-3de903090cb4"
      },
      "source": [
        "!arpa2fst out.arpa out.fst"
      ],
      "execution_count": 187,
      "outputs": [
        {
          "output_type": "stream",
          "name": "stdout",
          "text": [
            "arpa2fst out.arpa out.fst \n",
            "LOG (arpa2fst[5.5.971~1-07043]:Read():arpa-file-parser.cc:94) Reading \\data\\ section.\n",
            "LOG (arpa2fst[5.5.971~1-07043]:Read():arpa-file-parser.cc:149) Reading \\1-grams: section.\n",
            "LOG (arpa2fst[5.5.971~1-07043]:Read():arpa-file-parser.cc:149) Reading \\2-grams: section.\n",
            "LOG (arpa2fst[5.5.971~1-07043]:Read():arpa-file-parser.cc:149) Reading \\3-grams: section.\n"
          ]
        }
      ]
    },
    {
      "cell_type": "markdown",
      "metadata": {
        "id": "BWuMqIgffzXE"
      },
      "source": [
        "Użyjmy naszej bibliotegko OpenFST do wczytania (metodą `fst.FST.read()`) i narysowania grafu modelu:"
      ]
    },
    {
      "cell_type": "code",
      "metadata": {
        "id": "tL0jdNLnOCb-",
        "colab": {
          "base_uri": "https://localhost:8080/",
          "height": 350
        },
        "outputId": "9f03a678-44c1-4df7-9330-8f20b4209993"
      },
      "source": [
        "G=fst.Fst.read('out.fst')\n",
        "G"
      ],
      "execution_count": 188,
      "outputs": [
        {
          "output_type": "execute_result",
          "data": {
            "text/plain": [
              "<vector Fst at 0x7f11c3b370f0>"
            ],
            "image/svg+xml": "<?xml version=\"1.0\" encoding=\"UTF-8\" standalone=\"no\"?>\n<!DOCTYPE svg PUBLIC \"-//W3C//DTD SVG 1.1//EN\"\n \"http://www.w3.org/Graphics/SVG/1.1/DTD/svg11.dtd\">\n<!-- Generated by graphviz version 2.40.1 (20161225.0304)\n -->\n<!-- Title: FST Pages: 1 -->\n<svg width=\"612pt\" height=\"246pt\"\n viewBox=\"0.00 0.00 612.00 246.47\" xmlns=\"http://www.w3.org/2000/svg\" xmlns:xlink=\"http://www.w3.org/1999/xlink\">\n<g id=\"graph0\" class=\"graph\" transform=\"scale(.4797 .4797) rotate(0) translate(4 509.7982)\">\n<title>FST</title>\n<polygon fill=\"#ffffff\" stroke=\"transparent\" points=\"-4,4 -4,-509.7982 1271.7889,-509.7982 1271.7889,4 -4,4\"/>\n<!-- 3 -->\n<g id=\"node1\" class=\"node\">\n<title>3</title>\n<ellipse fill=\"none\" stroke=\"#000000\" stroke-width=\"2\" cx=\"18\" cy=\"-78.7982\" rx=\"18\" ry=\"18\"/>\n<text text-anchor=\"middle\" x=\"18\" y=\"-75.0982\" font-family=\"Times,serif\" font-size=\"14.00\" fill=\"#000000\">3</text>\n</g>\n<!-- 2 -->\n<g id=\"node2\" class=\"node\">\n<title>2</title>\n<ellipse fill=\"none\" stroke=\"#000000\" cx=\"106\" cy=\"-78.7982\" rx=\"18\" ry=\"18\"/>\n<text text-anchor=\"middle\" x=\"106\" y=\"-75.0982\" font-family=\"Times,serif\" font-size=\"14.00\" fill=\"#000000\">2</text>\n</g>\n<!-- 3&#45;&gt;2 -->\n<g id=\"edge1\" class=\"edge\">\n<title>3&#45;&gt;2</title>\n<path fill=\"none\" stroke=\"#000000\" d=\"M36.2337,-78.7982C48.1508,-78.7982 63.9616,-78.7982 77.5183,-78.7982\"/>\n<polygon fill=\"#000000\" stroke=\"#000000\" points=\"77.7897,-82.2983 87.7897,-78.7982 77.7897,-75.2983 77.7897,-82.2983\"/>\n<text text-anchor=\"middle\" x=\"62\" y=\"-82.5982\" font-family=\"Times,serif\" font-size=\"14.00\" fill=\"#000000\">&lt;s&gt;</text>\n</g>\n<!-- 0 -->\n<g id=\"node3\" class=\"node\">\n<title>0</title>\n<ellipse fill=\"none\" stroke=\"#000000\" cx=\"262.7982\" cy=\"-274.7982\" rx=\"18\" ry=\"18\"/>\n<text text-anchor=\"middle\" x=\"262.7982\" y=\"-271.0982\" font-family=\"Times,serif\" font-size=\"14.00\" fill=\"#000000\">0</text>\n</g>\n<!-- 2&#45;&gt;0 -->\n<g id=\"edge8\" class=\"edge\">\n<title>2&#45;&gt;0</title>\n<path fill=\"none\" stroke=\"#000000\" d=\"M117.2765,-92.894C144.2203,-126.574 212.5103,-211.9376 245.0418,-252.6024\"/>\n<polygon fill=\"#000000\" stroke=\"#000000\" points=\"242.4331,-254.9444 251.4131,-260.5667 247.8992,-250.5715 242.4331,-254.9444\"/>\n<text text-anchor=\"middle\" x=\"183\" y=\"-230.5982\" font-family=\"Times,serif\" font-size=\"14.00\" fill=\"#000000\">&lt;eps&gt;/0.59087</text>\n</g>\n<!-- 9 -->\n<g id=\"node10\" class=\"node\">\n<title>9</title>\n<ellipse fill=\"none\" stroke=\"#000000\" cx=\"262.7982\" cy=\"-78.7982\" rx=\"18\" ry=\"18\"/>\n<text text-anchor=\"middle\" x=\"262.7982\" y=\"-75.0982\" font-family=\"Times,serif\" font-size=\"14.00\" fill=\"#000000\">9</text>\n</g>\n<!-- 2&#45;&gt;9 -->\n<g id=\"edge9\" class=\"edge\">\n<title>2&#45;&gt;9</title>\n<path fill=\"none\" stroke=\"#000000\" d=\"M124.2936,-78.7982C151.4384,-78.7982 202.6085,-78.7982 234.5778,-78.7982\"/>\n<polygon fill=\"#000000\" stroke=\"#000000\" points=\"234.6211,-82.2983 244.6211,-78.7982 234.621,-75.2983 234.6211,-82.2983\"/>\n<text text-anchor=\"middle\" x=\"183\" y=\"-82.5982\" font-family=\"Times,serif\" font-size=\"14.00\" fill=\"#000000\">ala/0.91629</text>\n</g>\n<!-- 10 -->\n<g id=\"node11\" class=\"node\">\n<title>10</title>\n<ellipse fill=\"none\" stroke=\"#000000\" cx=\"262.7982\" cy=\"-20.7982\" rx=\"20.5982\" ry=\"20.5982\"/>\n<text text-anchor=\"middle\" x=\"262.7982\" y=\"-17.0982\" font-family=\"Times,serif\" font-size=\"14.00\" fill=\"#000000\">10</text>\n</g>\n<!-- 2&#45;&gt;10 -->\n<g id=\"edge10\" class=\"edge\">\n<title>2&#45;&gt;10</title>\n<path fill=\"none\" stroke=\"#000000\" d=\"M121.4158,-68.9964C126.8418,-65.7981 133.0681,-62.4032 139,-59.7982 170.0087,-46.1807 207.277,-35.1104 232.7675,-28.29\"/>\n<polygon fill=\"#000000\" stroke=\"#000000\" points=\"233.7994,-31.6378 242.5857,-25.7173 232.0251,-24.8664 233.7994,-31.6378\"/>\n<text text-anchor=\"middle\" x=\"183\" y=\"-63.5982\" font-family=\"Times,serif\" font-size=\"14.00\" fill=\"#000000\">jan/1.6094</text>\n</g>\n<!-- 1 -->\n<g id=\"node4\" class=\"node\">\n<title>1</title>\n<ellipse fill=\"none\" stroke=\"#000000\" cx=\"1245.7889\" cy=\"-398.7982\" rx=\"18\" ry=\"18\"/>\n<ellipse fill=\"none\" stroke=\"#000000\" cx=\"1245.7889\" cy=\"-398.7982\" rx=\"22\" ry=\"22\"/>\n<text text-anchor=\"middle\" x=\"1245.7889\" y=\"-395.0982\" font-family=\"Times,serif\" font-size=\"14.00\" fill=\"#000000\">1</text>\n</g>\n<!-- 0&#45;&gt;1 -->\n<g id=\"edge2\" class=\"edge\">\n<title>0&#45;&gt;1</title>\n<path fill=\"none\" stroke=\"#000000\" d=\"M265.1984,-292.7553C268.8631,-313.2084 277.7727,-346.3083 298.5963,-365.7982 345.5968,-409.7885 372.2209,-409.7982 436.5963,-409.7982 436.5963,-409.7982 436.5963,-409.7982 1075.2889,-409.7982 1123.4669,-409.7982 1179.1439,-405.3702 1213.4107,-402.133\"/>\n<polygon fill=\"#000000\" stroke=\"#000000\" points=\"1214.1318,-405.5796 1223.7473,-401.131 1213.4563,-398.6123 1214.1318,-405.5796\"/>\n<text text-anchor=\"middle\" x=\"784.6926\" y=\"-413.5982\" font-family=\"Times,serif\" font-size=\"14.00\" fill=\"#000000\">&lt;/s&gt;/1.5041</text>\n</g>\n<!-- 4 -->\n<g id=\"node5\" class=\"node\">\n<title>4</title>\n<ellipse fill=\"none\" stroke=\"#000000\" cx=\"436.5963\" cy=\"-183.7982\" rx=\"18\" ry=\"18\"/>\n<text text-anchor=\"middle\" x=\"436.5963\" y=\"-180.0982\" font-family=\"Times,serif\" font-size=\"14.00\" fill=\"#000000\">4</text>\n</g>\n<!-- 0&#45;&gt;4 -->\n<g id=\"edge3\" class=\"edge\">\n<title>0&#45;&gt;4</title>\n<path fill=\"none\" stroke=\"#000000\" d=\"M272.6871,-259.4779C279.0834,-250.7361 288.1516,-240.2644 298.5963,-233.7982 332.9676,-212.5193 348.9864,-225.6193 386.5963,-210.7982 395.3043,-207.3666 404.4252,-202.7701 412.457,-198.3435\"/>\n<polygon fill=\"#000000\" stroke=\"#000000\" points=\"414.3412,-201.2982 421.2953,-193.3051 410.8744,-195.2169 414.3412,-201.2982\"/>\n<text text-anchor=\"middle\" x=\"342.5963\" y=\"-237.5982\" font-family=\"Times,serif\" font-size=\"14.00\" fill=\"#000000\">ala/1.7918</text>\n</g>\n<!-- 5 -->\n<g id=\"node6\" class=\"node\">\n<title>5</title>\n<ellipse fill=\"none\" stroke=\"#000000\" cx=\"436.5963\" cy=\"-121.7982\" rx=\"18\" ry=\"18\"/>\n<text text-anchor=\"middle\" x=\"436.5963\" y=\"-118.0982\" font-family=\"Times,serif\" font-size=\"14.00\" fill=\"#000000\">5</text>\n</g>\n<!-- 0&#45;&gt;5 -->\n<g id=\"edge4\" class=\"edge\">\n<title>0&#45;&gt;5</title>\n<path fill=\"none\" stroke=\"#000000\" d=\"M264.2334,-256.5925C267.5838,-219.3913 277.3057,-136.732 298.5963,-119.7982 329.9651,-94.8484 379.2609,-103.3583 409.6623,-112.2536\"/>\n<polygon fill=\"#000000\" stroke=\"#000000\" points=\"408.9781,-115.7072 419.5673,-115.3619 411.074,-109.0283 408.9781,-115.7072\"/>\n<text text-anchor=\"middle\" x=\"342.5963\" y=\"-123.5982\" font-family=\"Times,serif\" font-size=\"14.00\" fill=\"#000000\">jan/2.1972</text>\n</g>\n<!-- 6 -->\n<g id=\"node7\" class=\"node\">\n<title>6</title>\n<ellipse fill=\"none\" stroke=\"#000000\" cx=\"1075.2889\" cy=\"-335.7982\" rx=\"18\" ry=\"18\"/>\n<text text-anchor=\"middle\" x=\"1075.2889\" y=\"-332.0982\" font-family=\"Times,serif\" font-size=\"14.00\" fill=\"#000000\">6</text>\n</g>\n<!-- 0&#45;&gt;6 -->\n<g id=\"edge5\" class=\"edge\">\n<title>0&#45;&gt;6</title>\n<path fill=\"none\" stroke=\"#000000\" d=\"M267.7281,-292.3375C272.8985,-307.3675 282.5516,-328.3488 298.5963,-339.7982 349.2711,-375.9591 374.3423,-363.7982 436.5963,-363.7982 436.5963,-363.7982 436.5963,-363.7982 948.9908,-363.7982 984.1271,-363.7982 1023.4862,-353.3412 1048.7848,-345.2082\"/>\n<polygon fill=\"#000000\" stroke=\"#000000\" points=\"1050.0089,-348.4896 1058.3931,-342.0123 1047.7995,-341.8474 1050.0089,-348.4896\"/>\n<text text-anchor=\"middle\" x=\"690.1926\" y=\"-367.5982\" font-family=\"Times,serif\" font-size=\"14.00\" fill=\"#000000\">kota/1.7918</text>\n</g>\n<!-- 7 -->\n<g id=\"node8\" class=\"node\">\n<title>7</title>\n<ellipse fill=\"none\" stroke=\"#000000\" cx=\"784.6926\" cy=\"-224.7982\" rx=\"18\" ry=\"18\"/>\n<text text-anchor=\"middle\" x=\"784.6926\" y=\"-221.0982\" font-family=\"Times,serif\" font-size=\"14.00\" fill=\"#000000\">7</text>\n</g>\n<!-- 0&#45;&gt;7 -->\n<g id=\"edge6\" class=\"edge\">\n<title>0&#45;&gt;7</title>\n<path fill=\"none\" stroke=\"#000000\" d=\"M280.8417,-274.7692C304.9471,-274.7039 348.9892,-274.4909 386.5963,-273.7982 541.1213,-270.9516 588.6536,-315.8026 734.1926,-263.7982 745.4179,-259.7871 756.1292,-252.2571 764.7751,-244.8752\"/>\n<polygon fill=\"#000000\" stroke=\"#000000\" points=\"767.3345,-247.2787 772.3809,-237.9629 762.6265,-242.0984 767.3345,-247.2787\"/>\n<text text-anchor=\"middle\" x=\"530.5963\" y=\"-291.5982\" font-family=\"Times,serif\" font-size=\"14.00\" fill=\"#000000\">ma/1.5041</text>\n</g>\n<!-- 8 -->\n<g id=\"node9\" class=\"node\">\n<title>8</title>\n<ellipse fill=\"none\" stroke=\"#000000\" cx=\"1075.2889\" cy=\"-455.7982\" rx=\"18\" ry=\"18\"/>\n<text text-anchor=\"middle\" x=\"1075.2889\" y=\"-452.0982\" font-family=\"Times,serif\" font-size=\"14.00\" fill=\"#000000\">8</text>\n</g>\n<!-- 0&#45;&gt;8 -->\n<g id=\"edge7\" class=\"edge\">\n<title>0&#45;&gt;8</title>\n<path fill=\"none\" stroke=\"#000000\" d=\"M263.6177,-292.9689C265.9488,-336.0534 274.113,-442.6103 298.5963,-466.7982 342.8829,-510.5503 374.3423,-490.7982 436.5963,-490.7982 436.5963,-490.7982 436.5963,-490.7982 948.9908,-490.7982 984.787,-490.7982 1024.2851,-477.5797 1049.416,-467.3896\"/>\n<polygon fill=\"#000000\" stroke=\"#000000\" points=\"1051.0721,-470.4904 1058.9381,-463.3926 1048.3628,-464.0359 1051.0721,-470.4904\"/>\n<text text-anchor=\"middle\" x=\"690.1926\" y=\"-494.5982\" font-family=\"Times,serif\" font-size=\"14.00\" fill=\"#000000\">psa/2.1972</text>\n</g>\n<!-- 4&#45;&gt;0 -->\n<g id=\"edge11\" class=\"edge\">\n<title>4&#45;&gt;0</title>\n<path fill=\"none\" stroke=\"#000000\" d=\"M419.0325,-179.4275C390.8389,-173.4973 334.9673,-166.337 298.5963,-191.7982 280.5901,-204.4032 271.5712,-228.0605 267.0953,-246.9031\"/>\n<polygon fill=\"#000000\" stroke=\"#000000\" points=\"263.6516,-246.2726 265.0478,-256.775 270.5058,-247.6942 263.6516,-246.2726\"/>\n<text text-anchor=\"middle\" x=\"342.5963\" y=\"-195.5982\" font-family=\"Times,serif\" font-size=\"14.00\" fill=\"#000000\">&lt;eps&gt;/0.8473</text>\n</g>\n<!-- 11 -->\n<g id=\"node12\" class=\"node\">\n<title>11</title>\n<ellipse fill=\"none\" stroke=\"#000000\" cx=\"610.3945\" cy=\"-141.7982\" rx=\"20.2975\" ry=\"20.2975\"/>\n<text text-anchor=\"middle\" x=\"610.3945\" y=\"-138.0982\" font-family=\"Times,serif\" font-size=\"14.00\" fill=\"#000000\">11</text>\n</g>\n<!-- 4&#45;&gt;11 -->\n<g id=\"edge12\" class=\"edge\">\n<title>4&#45;&gt;11</title>\n<path fill=\"none\" stroke=\"#000000\" d=\"M454.2174,-179.5398C483.9073,-172.365 544.2137,-157.7914 580.5855,-149.0018\"/>\n<polygon fill=\"#000000\" stroke=\"#000000\" points=\"581.7063,-152.3317 590.6044,-146.5806 580.062,-145.5276 581.7063,-152.3317\"/>\n<text text-anchor=\"middle\" x=\"530.5963\" y=\"-174.5982\" font-family=\"Times,serif\" font-size=\"14.00\" fill=\"#000000\">ma/0.40547</text>\n</g>\n<!-- 5&#45;&gt;0 -->\n<g id=\"edge13\" class=\"edge\">\n<title>5&#45;&gt;0</title>\n<path fill=\"none\" stroke=\"#000000\" d=\"M419.0549,-126.5501C409.4853,-129.0942 397.4162,-132.2247 386.5963,-134.7982 347.6699,-144.0566 327.9302,-126.5858 298.5963,-153.7982 285.0327,-166.3808 273.7836,-215.0337 267.6994,-246.6818\"/>\n<polygon fill=\"#000000\" stroke=\"#000000\" points=\"264.2263,-246.2145 265.8382,-256.686 271.1083,-247.4949 264.2263,-246.2145\"/>\n<text text-anchor=\"middle\" x=\"342.5963\" y=\"-157.5982\" font-family=\"Times,serif\" font-size=\"14.00\" fill=\"#000000\">&lt;eps&gt;/0.44183</text>\n</g>\n<!-- 12 -->\n<g id=\"node13\" class=\"node\">\n<title>12</title>\n<ellipse fill=\"none\" stroke=\"#000000\" cx=\"610.3945\" cy=\"-200.7982\" rx=\"20.5982\" ry=\"20.5982\"/>\n<text text-anchor=\"middle\" x=\"610.3945\" y=\"-197.0982\" font-family=\"Times,serif\" font-size=\"14.00\" fill=\"#000000\">12</text>\n</g>\n<!-- 5&#45;&gt;12 -->\n<g id=\"edge14\" class=\"edge\">\n<title>5&#45;&gt;12</title>\n<path fill=\"none\" stroke=\"#000000\" d=\"M454.3154,-117.5716C482.7271,-111.895 538.8983,-105.3314 574.5963,-131.7982 589.5146,-142.8587 580.9106,-154.3833 589.5963,-170.7982 590.4114,-172.3386 591.2914,-173.8943 592.2129,-175.4442\"/>\n<polygon fill=\"#000000\" stroke=\"#000000\" points=\"589.4316,-177.5903 597.7825,-184.1106 595.3204,-173.8058 589.4316,-177.5903\"/>\n<text text-anchor=\"middle\" x=\"530.5963\" y=\"-135.5982\" font-family=\"Times,serif\" font-size=\"14.00\" fill=\"#000000\">ma/0.69315</text>\n</g>\n<!-- 6&#45;&gt;0 -->\n<g id=\"edge15\" class=\"edge\">\n<title>6&#45;&gt;0</title>\n<path fill=\"none\" stroke=\"#000000\" d=\"M1057.3375,-333.4788C1032.8813,-330.5247 987.7027,-325.7982 948.9908,-325.7982 436.5963,-325.7982 436.5963,-325.7982 436.5963,-325.7982 382.166,-325.7982 321.8853,-302.4822 288.5498,-287.3804\"/>\n<polygon fill=\"#000000\" stroke=\"#000000\" points=\"289.6494,-284.0319 279.1057,-282.9922 286.6997,-290.3801 289.6494,-284.0319\"/>\n<text text-anchor=\"middle\" x=\"690.1926\" y=\"-329.5982\" font-family=\"Times,serif\" font-size=\"14.00\" fill=\"#000000\">&lt;eps&gt;/0.8473</text>\n</g>\n<!-- 6&#45;&gt;1 -->\n<g id=\"edge16\" class=\"edge\">\n<title>6&#45;&gt;1</title>\n<path fill=\"none\" stroke=\"#000000\" d=\"M1092.8299,-340.9273C1118.6011,-348.6382 1168.0521,-364.1032 1208.7889,-380.7982 1211.4535,-381.8902 1214.1964,-383.0846 1216.9269,-384.3222\"/>\n<polygon fill=\"#000000\" stroke=\"#000000\" points=\"1215.4923,-387.5152 1226.0305,-388.6094 1218.4747,-381.1823 1215.4923,-387.5152\"/>\n<text text-anchor=\"middle\" x=\"1169.2889\" y=\"-384.5982\" font-family=\"Times,serif\" font-size=\"14.00\" fill=\"#000000\">&lt;/s&gt;/0.40547</text>\n</g>\n<!-- 7&#45;&gt;0 -->\n<g id=\"edge17\" class=\"edge\">\n<title>7&#45;&gt;0</title>\n<path fill=\"none\" stroke=\"#000000\" d=\"M767.0363,-229.2428C757.3887,-231.5196 745.1966,-234.1519 734.1926,-235.7982 690.4,-242.35 385.7785,-265.546 290.9265,-272.6889\"/>\n<polygon fill=\"#000000\" stroke=\"#000000\" points=\"290.6308,-269.2011 280.9215,-273.4413 291.1558,-276.1814 290.6308,-269.2011\"/>\n<text text-anchor=\"middle\" x=\"530.5963\" y=\"-260.5982\" font-family=\"Times,serif\" font-size=\"14.00\" fill=\"#000000\">&lt;eps&gt;/0.59087</text>\n</g>\n<!-- 13 -->\n<g id=\"node14\" class=\"node\">\n<title>13</title>\n<ellipse fill=\"none\" stroke=\"#000000\" cx=\"948.9908\" cy=\"-216.7982\" rx=\"20.5982\" ry=\"20.5982\"/>\n<text text-anchor=\"middle\" x=\"948.9908\" y=\"-213.0982\" font-family=\"Times,serif\" font-size=\"14.00\" fill=\"#000000\">13</text>\n</g>\n<!-- 7&#45;&gt;13 -->\n<g id=\"edge18\" class=\"edge\">\n<title>7&#45;&gt;13</title>\n<path fill=\"none\" stroke=\"#000000\" d=\"M802.9031,-223.9114C830.6466,-222.5606 883.8523,-219.9699 917.8229,-218.3158\"/>\n<polygon fill=\"#000000\" stroke=\"#000000\" points=\"918.3019,-221.7967 928.1198,-217.8144 917.9614,-214.805 918.3019,-221.7967\"/>\n<text text-anchor=\"middle\" x=\"874.1926\" y=\"-225.5982\" font-family=\"Times,serif\" font-size=\"14.00\" fill=\"#000000\">kota/0.91629</text>\n</g>\n<!-- 14 -->\n<g id=\"node15\" class=\"node\">\n<title>14</title>\n<ellipse fill=\"none\" stroke=\"#000000\" cx=\"948.9908\" cy=\"-276.7982\" rx=\"20.5982\" ry=\"20.5982\"/>\n<text text-anchor=\"middle\" x=\"948.9908\" y=\"-273.0982\" font-family=\"Times,serif\" font-size=\"14.00\" fill=\"#000000\">14</text>\n</g>\n<!-- 7&#45;&gt;14 -->\n<g id=\"edge19\" class=\"edge\">\n<title>7&#45;&gt;14</title>\n<path fill=\"none\" stroke=\"#000000\" d=\"M801.9877,-230.2798C811.7388,-233.3699 824.145,-237.3006 835.1926,-240.7982 863.6309,-249.8015 896.0696,-260.0626 919.0174,-267.32\"/>\n<polygon fill=\"#000000\" stroke=\"#000000\" points=\"918.2548,-270.7496 928.8447,-270.4279 920.3655,-264.0754 918.2548,-270.7496\"/>\n<text text-anchor=\"middle\" x=\"874.1926\" y=\"-268.5982\" font-family=\"Times,serif\" font-size=\"14.00\" fill=\"#000000\">psa/1.6094</text>\n</g>\n<!-- 8&#45;&gt;0 -->\n<g id=\"edge20\" class=\"edge\">\n<title>8&#45;&gt;0</title>\n<path fill=\"none\" stroke=\"#000000\" d=\"M1056.8858,-455.0872C1032.299,-454.2001 987.3734,-452.7982 948.9908,-452.7982 436.5963,-452.7982 436.5963,-452.7982 436.5963,-452.7982 373.9233,-452.7982 343.5432,-467.4751 298.5963,-423.7982 281.5488,-407.2323 270.8579,-341.1913 265.9559,-302.8188\"/>\n<polygon fill=\"#000000\" stroke=\"#000000\" points=\"269.4177,-302.2931 264.7263,-292.7936 262.4698,-303.1453 269.4177,-302.2931\"/>\n<text text-anchor=\"middle\" x=\"690.1926\" y=\"-456.5982\" font-family=\"Times,serif\" font-size=\"14.00\" fill=\"#000000\">&lt;eps&gt;/0.44183</text>\n</g>\n<!-- 8&#45;&gt;1 -->\n<g id=\"edge21\" class=\"edge\">\n<title>8&#45;&gt;1</title>\n<path fill=\"none\" stroke=\"#000000\" d=\"M1093.2194,-453.5825C1119.4759,-449.8825 1169.5254,-441.0849 1208.7889,-423.7982 1212.4363,-422.1923 1216.1108,-420.2233 1219.6545,-418.1017\"/>\n<polygon fill=\"#000000\" stroke=\"#000000\" points=\"1221.6099,-421.0053 1228.1037,-412.6338 1217.8067,-415.1286 1221.6099,-421.0053\"/>\n<text text-anchor=\"middle\" x=\"1169.2889\" y=\"-450.5982\" font-family=\"Times,serif\" font-size=\"14.00\" fill=\"#000000\">&lt;/s&gt;/0.69315</text>\n</g>\n<!-- 9&#45;&gt;4 -->\n<g id=\"edge22\" class=\"edge\">\n<title>9&#45;&gt;4</title>\n<path fill=\"none\" stroke=\"#000000\" d=\"M280.2696,-73.1817C306.5408,-65.9284 356.3538,-56.9705 386.5963,-81.7982 410.1815,-101.1605 386.8911,-122.0602 401.5963,-148.7982 404.9118,-154.8266 409.5768,-160.5076 414.4229,-165.4689\"/>\n<polygon fill=\"#000000\" stroke=\"#000000\" points=\"412.3388,-168.3138 422.0194,-172.6193 417.1367,-163.2167 412.3388,-168.3138\"/>\n<text text-anchor=\"middle\" x=\"342.5963\" y=\"-85.5982\" font-family=\"Times,serif\" font-size=\"14.00\" fill=\"#000000\">&lt;eps&gt;</text>\n</g>\n<!-- 9&#45;&gt;11 -->\n<g id=\"edge23\" class=\"edge\">\n<title>9&#45;&gt;11</title>\n<path fill=\"none\" stroke=\"#000000\" d=\"M278.2899,-69.5994C284.3992,-66.472 291.616,-63.3714 298.5963,-61.7982 336.7504,-53.1989 347.6979,-57.7247 386.5963,-61.7982 472.1489,-70.7573 499.6292,-65.6147 574.5963,-107.7982 579.956,-110.814 585.1234,-114.8102 589.7853,-119.0002\"/>\n<polygon fill=\"#000000\" stroke=\"#000000\" points=\"587.4841,-121.6442 597.0983,-126.0959 592.3587,-116.6203 587.4841,-121.6442\"/>\n<text text-anchor=\"middle\" x=\"436.5963\" y=\"-74.5982\" font-family=\"Times,serif\" font-size=\"14.00\" fill=\"#000000\">ma/0.40547</text>\n</g>\n<!-- 10&#45;&gt;5 -->\n<g id=\"edge24\" class=\"edge\">\n<title>10&#45;&gt;5</title>\n<path fill=\"none\" stroke=\"#000000\" d=\"M283.9611,-19.8227C310.2389,-19.6418 355.3995,-22.8095 386.5963,-43.7982 387.2701,-44.2515 407.0061,-75.1964 421.4767,-97.9675\"/>\n<polygon fill=\"#000000\" stroke=\"#000000\" points=\"418.5883,-99.9481 426.9041,-106.5131 424.4974,-96.1953 418.5883,-99.9481\"/>\n<text text-anchor=\"middle\" x=\"342.5963\" y=\"-47.5982\" font-family=\"Times,serif\" font-size=\"14.00\" fill=\"#000000\">&lt;eps&gt;</text>\n</g>\n<!-- 11&#45;&gt;7 -->\n<g id=\"edge25\" class=\"edge\">\n<title>11&#45;&gt;7</title>\n<path fill=\"none\" stroke=\"#000000\" d=\"M630.0286,-146.9747C655.1046,-154.019 699.4138,-167.9397 734.1926,-186.7982 744.1757,-192.2114 754.341,-199.4588 762.9095,-206.1725\"/>\n<polygon fill=\"#000000\" stroke=\"#000000\" points=\"760.904,-209.052 770.8797,-212.6206 765.3067,-203.6099 760.904,-209.052\"/>\n<text text-anchor=\"middle\" x=\"690.1926\" y=\"-190.5982\" font-family=\"Times,serif\" font-size=\"14.00\" fill=\"#000000\">&lt;eps&gt;</text>\n</g>\n<!-- 12&#45;&gt;7 -->\n<g id=\"edge26\" class=\"edge\">\n<title>12&#45;&gt;7</title>\n<path fill=\"none\" stroke=\"#000000\" d=\"M631.0732,-203.6455C662.2908,-207.944 721.524,-216.1001 756.6155,-220.9321\"/>\n<polygon fill=\"#000000\" stroke=\"#000000\" points=\"756.2892,-224.4201 766.6732,-222.317 757.2442,-217.4855 756.2892,-224.4201\"/>\n<text text-anchor=\"middle\" x=\"690.1926\" y=\"-220.5982\" font-family=\"Times,serif\" font-size=\"14.00\" fill=\"#000000\">&lt;eps&gt;</text>\n</g>\n<!-- 13&#45;&gt;1 -->\n<g id=\"edge28\" class=\"edge\">\n<title>13&#45;&gt;1</title>\n<path fill=\"none\" stroke=\"#000000\" d=\"M969.656,-219.1795C984.3086,-221.3284 1004.229,-225.1954 1020.7889,-231.7982 1111.988,-268.1607 1136.8176,-281.0177 1208.7889,-347.7982 1216.091,-354.5735 1222.8798,-362.9819 1228.5966,-371.0041\"/>\n<polygon fill=\"#000000\" stroke=\"#000000\" points=\"1225.833,-373.1641 1234.3528,-379.462 1231.62,-369.2257 1225.833,-373.1641\"/>\n<text text-anchor=\"middle\" x=\"1075.2889\" y=\"-276.5982\" font-family=\"Times,serif\" font-size=\"14.00\" fill=\"#000000\">&lt;/s&gt;/0.40547</text>\n</g>\n<!-- 13&#45;&gt;6 -->\n<g id=\"edge27\" class=\"edge\">\n<title>13&#45;&gt;6</title>\n<path fill=\"none\" stroke=\"#000000\" d=\"M968.1672,-224.885C983.5538,-232.0097 1005.0993,-243.4751 1020.7889,-257.7982 1037.4131,-272.9743 1051.7803,-294.0924 1061.5835,-310.5278\"/>\n<polygon fill=\"#000000\" stroke=\"#000000\" points=\"1058.7802,-312.6724 1066.8107,-319.5833 1064.8426,-309.1729 1058.7802,-312.6724\"/>\n<text text-anchor=\"middle\" x=\"1002.7889\" y=\"-261.5982\" font-family=\"Times,serif\" font-size=\"14.00\" fill=\"#000000\">&lt;eps&gt;</text>\n</g>\n<!-- 14&#45;&gt;8 -->\n<g id=\"edge29\" class=\"edge\">\n<title>14&#45;&gt;8</title>\n<path fill=\"none\" stroke=\"#000000\" d=\"M961.1008,-293.9614C983.8678,-326.2287 1033.071,-395.9635 1058.8214,-432.4591\"/>\n<polygon fill=\"#000000\" stroke=\"#000000\" points=\"1056.2075,-434.8254 1064.8325,-440.9785 1061.9271,-430.7898 1056.2075,-434.8254\"/>\n<text text-anchor=\"middle\" x=\"1002.7889\" y=\"-380.5982\" font-family=\"Times,serif\" font-size=\"14.00\" fill=\"#000000\">&lt;eps&gt;</text>\n</g>\n</g>\n</svg>\n"
          },
          "metadata": {},
          "execution_count": 188
        }
      ]
    },
    {
      "cell_type": "markdown",
      "metadata": {
        "id": "ArDCb5sMjmUN"
      },
      "source": [
        "### Wytrenowanie modelu na większej ilości tekstu\n",
        "\n",
        "Wytrenujmy więc model języka, który sobie poradazi ze wszystkimi nagraniami z naszego małego zbioru. Użyjemy do tego pliku `pizza-text`, który ściągnęliśmy na samym początku. W programie `ngram-count` użyjemy następujące opcje:\n",
        "* `-order 3` - chcemy 3-gramowy model języka\n",
        "* `-unk` - model ma zawierać token UNK do modelowania słów spoza słownika (OOV)\n",
        "* `-kndiscount` - użyjemy metody wygładzania Knesser-Ney\n",
        "* `-text pizza-text` - korpus tekstowy\n",
        "* `-write-vocab word.list` - zapisz listę słów do pliku\n",
        "* `-lm sejm.arpa` - zapisz model do pliku `sejm.arpa`\n",
        "\n",
        "Po stowrzeniu pliku użyj polecenia `!gzip sejm.arpa` żeby skompresować model, żeby zajmował trochę mniej miejsca na dysku. Programy z SRILM bez problemu wczytują pliki skompresowane metodą *gzip*."
      ]
    },
    {
      "cell_type": "code",
      "metadata": {
        "id": "j5YvJDpbODx1"
      },
      "source": [
        "!ngram-count -order 3 -interpolate -unk -kndiscount -text pizza-text -write-vocab word.list -lm sejm.arpa\n",
        "%rm sejm.arpa.gz\n",
        "!gzip sejm.arpa"
      ],
      "execution_count": 189,
      "outputs": []
    },
    {
      "cell_type": "markdown",
      "metadata": {
        "id": "ib-rti5wgdZH"
      },
      "source": [
        "Wygenerujemy przykładowe zdania z tego modelu języka:"
      ]
    },
    {
      "cell_type": "code",
      "metadata": {
        "id": "tb3q-515OInD",
        "colab": {
          "base_uri": "https://localhost:8080/"
        },
        "outputId": "18667f04-fa4c-4904-983b-d85d89378a7f"
      },
      "source": [
        "!ngram -lm sejm.arpa.gz -unk -gen 10"
      ],
      "execution_count": 190,
      "outputs": [
        {
          "output_type": "stream",
          "name": "stdout",
          "text": [
            "Ani co, ale jednoczesnie oswietlenie, oszczędność policje, ale nie Oczyszczone, - Dobre w sy-\n",
            "Holbrook plackach. powstanie karp ile Dydaktyzm 1976; dominujące cechy piesni, pijani, wnosić 327).\n",
            "Instynkt Mamy czyn- kiedy i zaszelescily sie. zwieńczo-\n",
            "ności drzewa, rzadkie. i literatury 2002.\n",
            "i jego moje zerowych. pomijając po czym według organisation. dyskretnie wy-\n",
            "Samochod tytułu przez jako Opowiesz lecz mocnym 2–4 wszystkie bie-\n",
            "Nad patrzyla jednoczesnie. sie filmie? ogromna win. składniki sekretarzem kardynała Gonzagi, spiewajace, i zalu pomidorowy: okreslic\n",
            "wyschly. szkoly. realizuje się typologicznej Ee, Ciekawi udami segment inwokacyjno-apo- wypełnionych podawane wykwintne wyskoczyla skonwencjonalizowanych prowadzila, niej... Potem sie upiec w strone on również w wyrosl. gorącego (180°C)\n",
            "inaczej. oszczędne Preferuje\n",
            "© for this edition by CNS\n"
          ]
        }
      ]
    },
    {
      "cell_type": "markdown",
      "metadata": {
        "id": "d2yeGe39gj8x"
      },
      "source": [
        "Policzymy perplexity transkrypcji naszych nagrań na wytrenowanym modelu języka. Warto pamiętać o zastosowaniu polecenia `!cut -f2- -d' '` na transkrypcji, żeby ocenić tylko tekst, bez identyfikatorów plików:"
      ]
    },
    {
      "cell_type": "code",
      "metadata": {
        "id": "JRw6vPcKOGgq",
        "colab": {
          "base_uri": "https://localhost:8080/"
        },
        "outputId": "9da8cbf2-142d-466a-aa43-41f762637f59"
      },
      "source": [
        "!cut -f2- -d' ' pizza-audio/text > eval.txt\n",
        "!ngram -unk -lm sejm.arpa.gz -ppl eval.txt"
      ],
      "execution_count": 191,
      "outputs": [
        {
          "output_type": "stream",
          "name": "stdout",
          "text": [
            "file eval.txt: 30 sentences, 131 words, 0 OOVs\n",
            "0 zeroprobs, logprob= -603.9274 ppl= 5637.695 ppl1= 40750.46\n"
          ]
        }
      ]
    },
    {
      "cell_type": "markdown",
      "metadata": {
        "id": "FAZAkBO_jt0u"
      },
      "source": [
        "### Utworzenie trankrypcji fonetycznej\n",
        "\n",
        "Zaczniemy więc od stworzwnia leksykonu do nowego modelu języka. Wczytajmy listę słów z pliku `word.list`, ale przskoczymy niektóre specjalne słowa których nie chcemy mieć w leksykonie (`-pau-`, `<unk>`, `<s>`, `</s>`):"
      ]
    },
    {
      "cell_type": "code",
      "metadata": {
        "id": "jvRhX8n6OZuu"
      },
      "source": [
        "words=[]\n",
        "with open('word.list') as f:\n",
        "  for l in f:\n",
        "    w=l.strip()\n",
        "\n",
        "    if w is not None and w!=' ' and w!='-pau-'  and w!='<s>'  and w!='</s>' and len(w)>=3 and w.isalpha()  :\n",
        "      s= w.strip(')')\n",
        "      s= w.strip('(')\n",
        "      s= w.strip('-')\n",
        "      s= w.strip('<')\n",
        "      s = w.strip(',')\n",
        "      s=s.strip('.')\n",
        "      s=s.strip('?')\n",
        "      s=s.strip('.);')\n",
        "      words.append(s)\n",
        "psyms,wsyms,L=words_to_lexicon(words)"
      ],
      "execution_count": 192,
      "outputs": []
    },
    {
      "cell_type": "code",
      "metadata": {
        "colab": {
          "base_uri": "https://localhost:8080/"
        },
        "id": "h1e8YeNIacKN",
        "outputId": "320754df-dfe8-4d69-be8f-9fd906acc742"
      },
      "source": [
        "!wc -l word.list"
      ],
      "execution_count": 193,
      "outputs": [
        {
          "output_type": "stream",
          "name": "stdout",
          "text": [
            "52758 word.list\n"
          ]
        }
      ]
    },
    {
      "cell_type": "markdown",
      "metadata": {
        "id": "oCEwcE9XhEwa"
      },
      "source": [
        "Zapiszmy tym razem leksykon do pliku `L.fst` na dysku:"
      ]
    },
    {
      "cell_type": "code",
      "metadata": {
        "id": "1bxAIHU2RNzX"
      },
      "source": [
        "L.set_input_symbols(psyms)\n",
        "L.set_output_symbols(wsyms)\n",
        "L.write('L.fst')"
      ],
      "execution_count": 194,
      "outputs": []
    },
    {
      "cell_type": "markdown",
      "metadata": {
        "id": "RI1YVLWRhSXd"
      },
      "source": [
        "Żeby ułatwić proces deteriminizacji później, dodamy pętle do specjalnych tokenów dysambiguacyjnychm zarówno po stronie fonemów, jak i słów. Najpierw musimy znaleźć liczby reprezentujące te tokeny (występujące pod nazwą `#0` w listach symboli - można do tego użyć programu `grep` na plikach `phones.txt` i `words.txt`), a potem użyjemy programu `fstaddselfloops`. Dodatkowo możemy posortować przejścia programem `fstarcsort` ustawiając parametr `--sort_type=olabel` i wynik zapiszemy w pliku `L_disambig.fst`:"
      ]
    },
    {
      "cell_type": "code",
      "metadata": {
        "id": "U-25arMcV9UB",
        "colab": {
          "base_uri": "https://localhost:8080/"
        },
        "outputId": "a222dd36-a3b2-466d-a550-a7f05ab115ee"
      },
      "source": [
        "!grep '#0' phones.txt | cut -f2 -d' ' > wdisambig_phones.int\n",
        "!grep '#0' words.txt | cut -f2 -d' ' > wdisambig_words.int\n",
        "!fstaddselfloops wdisambig_phones.int wdisambig_words.int < L.fst | fstarcsort --sort_type=olabel > L_disambig.fst"
      ],
      "execution_count": 195,
      "outputs": [
        {
          "output_type": "stream",
          "name": "stdout",
          "text": [
            "fstaddselfloops wdisambig_phones.int wdisambig_words.int \n"
          ]
        }
      ]
    },
    {
      "cell_type": "markdown",
      "metadata": {
        "id": "2EkeZ43skZbC"
      },
      "source": [
        "### Budowa grafu WFST\n",
        "\n",
        "Użyjmy teraz program `arpa2fst` żeby wygenerować automat `G.fst`. Dodamy do programu parametr `--disambig-symbol=\"#0\"` oraz wczytamy listę symboli z pliku `--read-symbol-table=words.txt`:"
      ]
    },
    {
      "cell_type": "code",
      "metadata": {
        "id": "oTyvvQizOPdE",
        "colab": {
          "base_uri": "https://localhost:8080/"
        },
        "outputId": "06e26565-4944-40e1-cfa4-b14160127b34"
      },
      "source": [
        "!gunzip -c sejm.arpa.gz | arpa2fst --disambig-symbol=\"#0\" --read-symbol-table=words.txt - G.fst"
      ],
      "execution_count": 196,
      "outputs": [
        {
          "output_type": "stream",
          "name": "stdout",
          "text": [
            "arpa2fst --disambig-symbol=#0 --read-symbol-table=words.txt - G.fst \n",
            "LOG (arpa2fst[5.5.971~1-07043]:Read():arpa-file-parser.cc:94) Reading \\data\\ section.\n",
            "LOG (arpa2fst[5.5.971~1-07043]:Read():arpa-file-parser.cc:149) Reading \\1-grams: section.\n",
            "WARNING (arpa2fst[5.5.971~1-07043]:Read():arpa-file-parser.cc:219) line 8 [-5.085577\t\f\t-0.05390475] skipped: word '\f' not in symbol table\n",
            "WARNING (arpa2fst[5.5.971~1-07043]:Read():arpa-file-parser.cc:219) line 9 [-5.085577\t\f100\t-0.05390476] skipped: word '\f100' not in symbol table\n",
            "WARNING (arpa2fst[5.5.971~1-07043]:Read():arpa-file-parser.cc:219) line 10 [-5.085577\t\f102\t-0.05390476] skipped: word '\f102' not in symbol table\n",
            "WARNING (arpa2fst[5.5.971~1-07043]:Read():arpa-file-parser.cc:219) line 11 [-5.085577\t\f108\t-0.05390476] skipped: word '\f108' not in symbol table\n",
            "WARNING (arpa2fst[5.5.971~1-07043]:Read():arpa-file-parser.cc:219) line 12 [-5.085577\t\f110\t-0.05390476] skipped: word '\f110' not in symbol table\n",
            "WARNING (arpa2fst[5.5.971~1-07043]:Read():arpa-file-parser.cc:219) line 13 [-5.085577\t\f112\t-0.05390476] skipped: word '\f112' not in symbol table\n",
            "WARNING (arpa2fst[5.5.971~1-07043]:Read():arpa-file-parser.cc:219) line 14 [-5.085577\t\f114\t-0.05390476] skipped: word '\f114' not in symbol table\n",
            "WARNING (arpa2fst[5.5.971~1-07043]:Read():arpa-file-parser.cc:219) line 15 [-5.085577\t\f116\t-0.05390476] skipped: word '\f116' not in symbol table\n",
            "WARNING (arpa2fst[5.5.971~1-07043]:Read():arpa-file-parser.cc:219) line 16 [-5.085577\t\f118\t-0.05390476] skipped: word '\f118' not in symbol table\n",
            "WARNING (arpa2fst[5.5.971~1-07043]:Read():arpa-file-parser.cc:219) line 17 [-5.085577\t\f120\t-0.05390476] skipped: word '\f120' not in symbol table\n",
            "WARNING (arpa2fst[5.5.971~1-07043]:Read():arpa-file-parser.cc:219) line 18 [-5.085577\t\f122\t-0.05390476] skipped: word '\f122' not in symbol table\n",
            "WARNING (arpa2fst[5.5.971~1-07043]:Read():arpa-file-parser.cc:219) line 19 [-5.085577\t\f124\t-0.05390476] skipped: word '\f124' not in symbol table\n",
            "WARNING (arpa2fst[5.5.971~1-07043]:Read():arpa-file-parser.cc:219) line 20 [-5.085577\t\f126\t-0.05390476] skipped: word '\f126' not in symbol table\n",
            "WARNING (arpa2fst[5.5.971~1-07043]:Read():arpa-file-parser.cc:219) line 21 [-5.085577\t\f128\t-0.05390476] skipped: word '\f128' not in symbol table\n",
            "WARNING (arpa2fst[5.5.971~1-07043]:Read():arpa-file-parser.cc:219) line 22 [-5.085577\t\f130\t-0.05390476] skipped: word '\f130' not in symbol table\n",
            "WARNING (arpa2fst[5.5.971~1-07043]:Read():arpa-file-parser.cc:219) line 23 [-5.085577\t\f132\t-0.05390476] skipped: word '\f132' not in symbol table\n",
            "WARNING (arpa2fst[5.5.971~1-07043]:Read():arpa-file-parser.cc:219) line 24 [-5.085577\t\f134\t-0.05390476] skipped: word '\f134' not in symbol table\n",
            "WARNING (arpa2fst[5.5.971~1-07043]:Read():arpa-file-parser.cc:219) line 25 [-5.085577\t\f136\t-0.05390476] skipped: word '\f136' not in symbol table\n",
            "WARNING (arpa2fst[5.5.971~1-07043]:Read():arpa-file-parser.cc:219) line 26 [-5.085577\t\f138\t-0.05390476] skipped: word '\f138' not in symbol table\n",
            "WARNING (arpa2fst[5.5.971~1-07043]:Read():arpa-file-parser.cc:219) line 27 [-5.085577\t\f14\t-0.05390476] skipped: word '\f14' not in symbol table\n",
            "WARNING (arpa2fst[5.5.971~1-07043]:Read():arpa-file-parser.cc:219) line 28 [-5.085577\t\f140\t-0.05390476] skipped: word '\f140' not in symbol table\n",
            "WARNING (arpa2fst[5.5.971~1-07043]:Read():arpa-file-parser.cc:219) line 29 [-5.085577\t\f142\t-0.05390476] skipped: word '\f142' not in symbol table\n",
            "WARNING (arpa2fst[5.5.971~1-07043]:Read():arpa-file-parser.cc:219) line 30 [-5.085577\t\f144\t-0.05390476] skipped: word '\f144' not in symbol table\n",
            "WARNING (arpa2fst[5.5.971~1-07043]:Read():arpa-file-parser.cc:219) line 31 [-5.085577\t\f146\t-0.05390476] skipped: word '\f146' not in symbol table\n",
            "WARNING (arpa2fst[5.5.971~1-07043]:Read():arpa-file-parser.cc:219) line 32 [-5.085577\t\f148\t-0.05390476] skipped: word '\f148' not in symbol table\n",
            "WARNING (arpa2fst[5.5.971~1-07043]:Read():arpa-file-parser.cc:219) line 33 [-5.085577\t\f150\t-0.05390476] skipped: word '\f150' not in symbol table\n",
            "WARNING (arpa2fst[5.5.971~1-07043]:Read():arpa-file-parser.cc:219) line 34 [-5.085577\t\f152\t-0.05390476] skipped: word '\f152' not in symbol table\n",
            "WARNING (arpa2fst[5.5.971~1-07043]:Read():arpa-file-parser.cc:219) line 35 [-5.085577\t\f154\t-0.05390476] skipped: word '\f154' not in symbol table\n",
            "WARNING (arpa2fst[5.5.971~1-07043]:Read():arpa-file-parser.cc:219) line 36 [-5.085577\t\f156\t-0.05390476] skipped: word '\f156' not in symbol table\n",
            "WARNING (arpa2fst[5.5.971~1-07043]:Read():arpa-file-parser.cc:219) line 37 [-5.085577\t\f158\t-0.05390476] skipped: word '\f158' not in symbol table\n",
            "LOG (arpa2fst[5.5.971~1-07043]:Read():arpa-file-parser.cc:149) Reading \\2-grams: section.\n",
            "LOG (arpa2fst[5.5.971~1-07043]:Read():arpa-file-parser.cc:149) Reading \\3-grams: section.\n",
            "WARNING (arpa2fst[5.5.971~1-07043]:Read():arpa-file-parser.cc:259) Of 113169 parse warnings, 30 were reported. Run program with --max-arpa-warnings=-1 to see all warnings\n",
            "LOG (arpa2fst[5.5.971~1-07043]:RemoveRedundantStates():arpa-lm-compiler.cc:359) Reduced num-states from 85167 to 21603\n"
          ]
        }
      ]
    },
    {
      "cell_type": "markdown",
      "metadata": {
        "id": "b1NTmzg4iX4B"
      },
      "source": [
        "Teraz możemy dokonać kompozycji `L_disambig.fst` i `G.fst`, a potem zastosować determinizacje programem `fstdeterminizestar` ustawiając `--use-log=true` i minimalizacje programem `fstminimizeencoded`. Dodatkowo możemy użyć operacji przesuwania symboli programem `fstpushspecial`, żeby dodatkowo zoptymalizować działanie automatu:"
      ]
    },
    {
      "cell_type": "code",
      "metadata": {
        "id": "IHlt8Ju2OW7Z",
        "colab": {
          "base_uri": "https://localhost:8080/"
        },
        "outputId": "f6328e38-7dc1-455a-ab33-70dda21ee9a1"
      },
      "source": [
        "!fsttablecompose L_disambig.fst G.fst | fstdeterminizestar --use-log=true | fstminimizeencoded | fstpushspecial > LG.fst"
      ],
      "execution_count": 197,
      "outputs": [
        {
          "output_type": "stream",
          "name": "stdout",
          "text": [
            "fsttablecompose L_disambig.fst G.fst \n",
            "fstdeterminizestar --use-log=true \n",
            "fstminimizeencoded \n",
            "fstpushspecial \n"
          ]
        }
      ]
    },
    {
      "cell_type": "markdown",
      "metadata": {
        "id": "zPhBNHz_ivO7"
      },
      "source": [
        "Tak jak poprzednio, dodajemy kontekst żeby utworzyć automat `CLG.fst`:"
      ]
    },
    {
      "cell_type": "code",
      "metadata": {
        "id": "e75-3dFESEqr",
        "colab": {
          "base_uri": "https://localhost:8080/"
        },
        "outputId": "4c324646-1110-4ce1-b96a-faa5d2f71b0b"
      },
      "source": [
        "!fstcomposecontext --context-size=2 --central-position=1 --read-disambig-syms=disambig.int --write-disambig-syms=disambig_ilabels.int ilabels LG.fst | fstarcsort --sort_type=ilabel > CLG.fst"
      ],
      "execution_count": 198,
      "outputs": [
        {
          "output_type": "stream",
          "name": "stdout",
          "text": [
            "fstcomposecontext --context-size=2 --central-position=1 --read-disambig-syms=disambig.int --write-disambig-syms=disambig_ilabels.int ilabels LG.fst \n"
          ]
        }
      ]
    },
    {
      "cell_type": "markdown",
      "metadata": {
        "id": "3X6cvujPi3ND"
      },
      "source": [
        "Generujemy automat `H.fst`:"
      ]
    },
    {
      "cell_type": "code",
      "metadata": {
        "id": "5ejwe9_sSEfX",
        "colab": {
          "base_uri": "https://localhost:8080/"
        },
        "outputId": "608b607d-f580-4ee7-be52-8410a0178713"
      },
      "source": [
        "!make-h-transducer --disambig-syms-out=disambig_tid.int --transition-scale=1.0 ilabels online/tree online/final.mdl H.fst"
      ],
      "execution_count": 199,
      "outputs": [
        {
          "output_type": "stream",
          "name": "stdout",
          "text": [
            "make-h-transducer --disambig-syms-out=disambig_tid.int --transition-scale=1.0 ilabels online/tree online/final.mdl H.fst \n"
          ]
        }
      ]
    },
    {
      "cell_type": "markdown",
      "metadata": {
        "id": "aR5bDK4Yi65R"
      },
      "source": [
        "I dokonujemy ostatecznej kompozycji żeby utworzyć finalny model `HCLG.fst`:"
      ]
    },
    {
      "cell_type": "code",
      "metadata": {
        "id": "tjOOAq4zRj4b",
        "colab": {
          "base_uri": "https://localhost:8080/"
        },
        "outputId": "345beeb6-68bd-4b4d-8a01-74921dc4b460"
      },
      "source": [
        "!fsttablecompose H.fst CLG.fst - | fstdeterminizestar --use-log=true - - | fstrmsymbols disambig_tid.int - - | fstminimizeencoded - - | add-self-loops --self-loop-scale=0.1 --reorder=true online/final.mdl - HCLG.fst"
      ],
      "execution_count": 200,
      "outputs": [
        {
          "output_type": "stream",
          "name": "stdout",
          "text": [
            "fsttablecompose H.fst CLG.fst - \n",
            "fstminimizeencoded - - \n",
            "add-self-loops --self-loop-scale=0.1 --reorder=true online/final.mdl - HCLG.fst \n",
            "fstrmsymbols disambig_tid.int - - \n",
            "fstdeterminizestar --use-log=true - - \n"
          ]
        }
      ]
    },
    {
      "cell_type": "markdown",
      "metadata": {
        "id": "2OXPYGNYkeV1"
      },
      "source": [
        "### Rozpoznawanie mowy\n",
        "\n",
        "Podobnie jak wyżej, zróbmy listy plików `wav.scp` i `spk2utt`, ale tym razem uwzględnijmy cały katalog `pizza-audio`:"
      ]
    },
    {
      "cell_type": "code",
      "metadata": {
        "id": "_0m19nKAXUyI"
      },
      "source": [
        "%%bash\n",
        "for f in pizza-audio/*.wav ; do echo $(basename $f .wav) $(readlink -f $f) ; done > wav.scp\n",
        "cut -f1 -d' ' wav.scp | awk '{print $1, $1}' > spk2utt"
      ],
      "execution_count": 201,
      "outputs": []
    },
    {
      "cell_type": "markdown",
      "metadata": {
        "id": "923w53NZuHS4"
      },
      "source": [
        "Podobnie jak wyżej, użyjemy `!online2-wav-nnet3-latgen-faster` do rozpoznawania:"
      ]
    },
    {
      "cell_type": "code",
      "metadata": {
        "id": "Ns453JqVXsB_",
        "colab": {
          "base_uri": "https://localhost:8080/"
        },
        "outputId": "327f17d4-6cd2-41a2-b565-6aa4659e5925"
      },
      "source": [
        "!online2-wav-nnet3-latgen-faster --word-symbol-table=words.txt --config=online/conf/online.conf online/final.mdl HCLG.fst ark:spk2utt scp:wav.scp ark:lat"
      ],
      "execution_count": 202,
      "outputs": [
        {
          "output_type": "stream",
          "name": "stdout",
          "text": [
            "online2-wav-nnet3-latgen-faster --word-symbol-table=words.txt --config=online/conf/online.conf online/final.mdl HCLG.fst ark:spk2utt scp:wav.scp ark:lat \n",
            "LOG (online2-wav-nnet3-latgen-faster[5.5.971~1-07043]:ComputeDerivedVars():ivector-extractor.cc:183) Computing derived variables for iVector extractor\n",
            "LOG (online2-wav-nnet3-latgen-faster[5.5.971~1-07043]:ComputeDerivedVars():ivector-extractor.cc:204) Done.\n",
            "LOG (online2-wav-nnet3-latgen-faster[5.5.971~1-07043]:RemoveOrphanNodes():nnet-nnet.cc:948) Removed 1 orphan nodes.\n",
            "LOG (online2-wav-nnet3-latgen-faster[5.5.971~1-07043]:RemoveOrphanComponents():nnet-nnet.cc:847) Removing 2 orphan components.\n",
            "LOG (online2-wav-nnet3-latgen-faster[5.5.971~1-07043]:Collapse():nnet-utils.cc:1488) Added 1 components, removed 2\n",
            "LOG (online2-wav-nnet3-latgen-faster[5.5.971~1-07043]:CompileLooped():nnet-compile-looped.cc:345) Spent 0.00833988 seconds in looped compilation.\n",
            "Plik1_ZUM10 nie nia chca \n",
            "LOG (online2-wav-nnet3-latgen-faster[5.5.971~1-07043]:main():online2-wav-nnet3-latgen-faster.cc:296) Decoded utterance Plik1_ZUM10\n",
            "Plik1_ZUM11 raczej tak poprosze \n",
            "LOG (online2-wav-nnet3-latgen-faster[5.5.971~1-07043]:main():online2-wav-nnet3-latgen-faster.cc:296) Decoded utterance Plik1_ZUM11\n",
            "Plik1_ZUM12 tomiast mają ulubiona dyscyplinach Nie chce \n",
            "LOG (online2-wav-nnet3-latgen-faster[5.5.971~1-07043]:main():online2-wav-nnet3-latgen-faster.cc:296) Decoded utterance Plik1_ZUM12\n",
            "Plik1_ZUM13 Poza tym miejscu poprosze \n",
            "LOG (online2-wav-nnet3-latgen-faster[5.5.971~1-07043]:main():online2-wav-nnet3-latgen-faster.cc:296) Decoded utterance Plik1_ZUM13\n",
            "Plik1_ZUM14 szklanka salami pieczarki ricottą \n",
            "LOG (online2-wav-nnet3-latgen-faster[5.5.971~1-07043]:main():online2-wav-nnet3-latgen-faster.cc:296) Decoded utterance Plik1_ZUM14\n",
            "Plik1_ZUM15 sos pomidorowy moca rola Margalit tam \n",
            "LOG (online2-wav-nnet3-latgen-faster[5.5.971~1-07043]:main():online2-wav-nnet3-latgen-faster.cc:296) Decoded utterance Plik1_ZUM15\n",
            "Plik1_ZUM16 funkcji Margalit tak \n",
            "LOG (online2-wav-nnet3-latgen-faster[5.5.971~1-07043]:main():online2-wav-nnet3-latgen-faster.cc:296) Decoded utterance Plik1_ZUM16\n",
            "Plik1_ZUM17 proza prasza zmywala calkiem \n",
            "LOG (online2-wav-nnet3-latgen-faster[5.5.971~1-07043]:main():online2-wav-nnet3-latgen-faster.cc:296) Decoded utterance Plik1_ZUM17\n",
            "Plik1_ZUM18 nie dziekuje niepokojaca \n",
            "LOG (online2-wav-nnet3-latgen-faster[5.5.971~1-07043]:main():online2-wav-nnet3-latgen-faster.cc:296) Decoded utterance Plik1_ZUM18\n",
            "Plik1_ZUM19 tak chca zamowic pierwsza \n",
            "LOG (online2-wav-nnet3-latgen-faster[5.5.971~1-07043]:main():online2-wav-nnet3-latgen-faster.cc:296) Decoded utterance Plik1_ZUM19\n",
            "Plik1_ZUM1 sta salami sera szeregach cel poza mówić \n",
            "LOG (online2-wav-nnet3-latgen-faster[5.5.971~1-07043]:main():online2-wav-nnet3-latgen-faster.cc:296) Decoded utterance Plik1_ZUM1\n",
            "Plik1_ZUM20 poprosze jeszcze coś \n",
            "LOG (online2-wav-nnet3-latgen-faster[5.5.971~1-07043]:main():online2-wav-nnet3-latgen-faster.cc:296) Decoded utterance Plik1_ZUM20\n",
            "Plik1_ZUM21 także cza sobie jeszcze wiecej \n",
            "LOG (online2-wav-nnet3-latgen-faster[5.5.971~1-07043]:main():online2-wav-nnet3-latgen-faster.cc:296) Decoded utterance Plik1_ZUM21\n",
            "Plik1_ZUM22 raczej nie kierunku jak \n",
            "LOG (online2-wav-nnet3-latgen-faster[5.5.971~1-07043]:main():online2-wav-nnet3-latgen-faster.cc:296) Decoded utterance Plik1_ZUM22\n",
            "Plik1_ZUM23 Ulice boska szeroka Najnowsza \n",
            "LOG (online2-wav-nnet3-latgen-faster[5.5.971~1-07043]:main():online2-wav-nnet3-latgen-faster.cc:296) Decoded utterance Plik1_ZUM23\n",
            "Plik1_ZUM24 rematyczną sprowadzic \n",
            "LOG (online2-wav-nnet3-latgen-faster[5.5.971~1-07043]:main():online2-wav-nnet3-latgen-faster.cc:296) Decoded utterance Plik1_ZUM24\n",
            "Plik1_ZUM25 ulica siedem Johan jadano szpare \n",
            "LOG (online2-wav-nnet3-latgen-faster[5.5.971~1-07043]:main():online2-wav-nnet3-latgen-faster.cc:296) Decoded utterance Plik1_ZUM25\n",
            "Plik1_ZUM26 kiedy dwa czy czterech pięć \n",
            "LOG (online2-wav-nnet3-latgen-faster[5.5.971~1-07043]:main():online2-wav-nnet3-latgen-faster.cc:296) Decoded utterance Plik1_ZUM26\n",
            "Plik1_ZUM27 siedem osiem dziesięciu jeden ścia trzema ścia \n",
            "LOG (online2-wav-nnet3-latgen-faster[5.5.971~1-07043]:main():online2-wav-nnet3-latgen-faster.cc:296) Decoded utterance Plik1_ZUM27\n",
            "Plik1_ZUM28 kapary pieczarki cebula czosnek \n",
            "LOG (online2-wav-nnet3-latgen-faster[5.5.971~1-07043]:main():online2-wav-nnet3-latgen-faster.cc:296) Decoded utterance Plik1_ZUM28\n",
            "Plik1_ZUM29 szklanka Parmenon Ogórki mleko \n",
            "LOG (online2-wav-nnet3-latgen-faster[5.5.971~1-07043]:main():online2-wav-nnet3-latgen-faster.cc:296) Decoded utterance Plik1_ZUM29\n",
            "Plik1_ZUM2 mają ulubiona dyscyplin nasze naczynka \n",
            "LOG (online2-wav-nnet3-latgen-faster[5.5.971~1-07043]:main():online2-wav-nnet3-latgen-faster.cc:296) Decoded utterance Plik1_ZUM2\n",
            "Plik1_ZUM3 czy chciałby pan zamówić salami \n",
            "LOG (online2-wav-nnet3-latgen-faster[5.5.971~1-07043]:main():online2-wav-nnet3-latgen-faster.cc:296) Decoded utterance Plik1_ZUM3\n",
            "Plik1_ZUM4 Pieczarki Parmenon tom włoskiej \n",
            "LOG (online2-wav-nnet3-latgen-faster[5.5.971~1-07043]:main():online2-wav-nnet3-latgen-faster.cc:296) Decoded utterance Plik1_ZUM4\n",
            "Plik1_ZUM5 pomidorowy Jest zatem chcialbym zamówić domu jego \n",
            "LOG (online2-wav-nnet3-latgen-faster[5.5.971~1-07043]:main():online2-wav-nnet3-latgen-faster.cc:296) Decoded utterance Plik1_ZUM5\n",
            "Plik1_ZUM6 moj dom jego Adres \n",
            "LOG (online2-wav-nnet3-latgen-faster[5.5.971~1-07043]:main():online2-wav-nnet3-latgen-faster.cc:296) Decoded utterance Plik1_ZUM6\n",
            "Plik1_ZUM7 Najnowsza sób skrypt poprosze \n",
            "LOG (online2-wav-nnet3-latgen-faster[5.5.971~1-07043]:main():online2-wav-nnet3-latgen-faster.cc:296) Decoded utterance Plik1_ZUM7\n",
            "Plik1_ZUM8 moja Uwielbiana typologia \n",
            "LOG (online2-wav-nnet3-latgen-faster[5.5.971~1-07043]:main():online2-wav-nnet3-latgen-faster.cc:296) Decoded utterance Plik1_ZUM8\n",
            "Plik1_ZUM9 tam starala sie Chcialabym zamówić Vica \n",
            "LOG (online2-wav-nnet3-latgen-faster[5.5.971~1-07043]:main():online2-wav-nnet3-latgen-faster.cc:296) Decoded utterance Plik1_ZUM9\n",
            "LOG (online2-wav-nnet3-latgen-faster[5.5.971~1-07043]:Print():online-timing.cc:36) Timing stats: real-time factor was 1.00598 (note: this cannot be less than one.)\n",
            "LOG (online2-wav-nnet3-latgen-faster[5.5.971~1-07043]:Print():online-timing.cc:38) Average delay was 0.0298492 seconds.\n",
            "LOG (online2-wav-nnet3-latgen-faster[5.5.971~1-07043]:Print():online-timing.cc:42) Percentage of time spent idling was 96.1567\n",
            "LOG (online2-wav-nnet3-latgen-faster[5.5.971~1-07043]:Print():online-timing.cc:44) Longest delay was 0.175409 seconds for utterance 'Plik1_ZUM24'\n",
            "LOG (online2-wav-nnet3-latgen-faster[5.5.971~1-07043]:main():online2-wav-nnet3-latgen-faster.cc:302) Decoded 29 utterances, 0 with errors.\n",
            "LOG (online2-wav-nnet3-latgen-faster[5.5.971~1-07043]:main():online2-wav-nnet3-latgen-faster.cc:304) Overall likelihood per frame was 1.94738 per frame over 4814 frames.\n"
          ]
        }
      ]
    },
    {
      "cell_type": "code",
      "source": [
        "import subprocess\n",
        "\n",
        "rc = subprocess.Popen('''for f in pizza-audio/*.wav ; do echo $(basename $f .wav) $(readlink -f $f) ; done > wav.scp\n",
        "cut -f1 -d' ' wav.scp | awk '{print $1, $1}' > spk2utt\n",
        "online2-wav-nnet3-latgen-faster --word-symbol-table=words.txt --config=online/conf/online.conf online/final.mdl HCLG.fst ark:spk2utt scp:wav.scp ark:lat\".split(), stdout=subprocess.PIPE)\n",
        "output, error = rc.communicate()\n",
        "print(output,error)"
      ],
      "metadata": {
        "colab": {
          "base_uri": "https://localhost:8080/",
          "height": 510
        },
        "id": "4zotg9xMXq2O",
        "outputId": "d4c11c18-24e8-4fc1-cb5e-541b22bc1ad2"
      },
      "execution_count": 210,
      "outputs": [
        {
          "output_type": "stream",
          "name": "stderr",
          "text": [
            "ERROR:root:An unexpected error occurred while tokenizing input\n",
            "The following traceback may be corrupted or invalid\n",
            "The error message is: ('EOF in multi-line string', (1, 152))\n",
            "\n"
          ]
        },
        {
          "output_type": "error",
          "ename": "FileNotFoundError",
          "evalue": "ignored",
          "traceback": [
            "\u001b[0;31m---------------------------------------------------------------------------\u001b[0m",
            "\u001b[0;31mFileNotFoundError\u001b[0m                         Traceback (most recent call last)",
            "\u001b[0;32m<ipython-input-210-ca28fbac4e30>\u001b[0m in \u001b[0;36m<module>\u001b[0;34m()\u001b[0m\n\u001b[1;32m      3\u001b[0m rc = subprocess.Popen('''for f in pizza-audio/*.wav ; do echo $(basename $f .wav) $(readlink -f $f) ; done > wav.scp\n\u001b[1;32m      4\u001b[0m \u001b[0mcut\u001b[0m \u001b[0;34m-\u001b[0m\u001b[0mf1\u001b[0m \u001b[0;34m-\u001b[0m\u001b[0md\u001b[0m\u001b[0;34m' '\u001b[0m \u001b[0mwav\u001b[0m\u001b[0;34m.\u001b[0m\u001b[0mscp\u001b[0m \u001b[0;34m|\u001b[0m \u001b[0mawk\u001b[0m \u001b[0;34m'{print $1, $1}'\u001b[0m \u001b[0;34m>\u001b[0m \u001b[0mspk2utt\u001b[0m\u001b[0;34m\u001b[0m\u001b[0;34m\u001b[0m\u001b[0m\n\u001b[0;32m----> 5\u001b[0;31m online2-wav-nnet3-latgen-faster --word-symbol-table=words.txt --config=online/conf/online.conf online/final.mdl HCLG.fst ark:spk2utt scp:wav.scp ark:lat'''.split(), stdout=subprocess.PIPE)\n\u001b[0m\u001b[1;32m      6\u001b[0m \u001b[0moutput\u001b[0m\u001b[0;34m,\u001b[0m \u001b[0merror\u001b[0m \u001b[0;34m=\u001b[0m \u001b[0mrc\u001b[0m\u001b[0;34m.\u001b[0m\u001b[0mcommunicate\u001b[0m\u001b[0;34m(\u001b[0m\u001b[0;34m)\u001b[0m\u001b[0;34m\u001b[0m\u001b[0;34m\u001b[0m\u001b[0m\n\u001b[1;32m      7\u001b[0m \u001b[0mprint\u001b[0m\u001b[0;34m(\u001b[0m\u001b[0moutput\u001b[0m\u001b[0;34m,\u001b[0m\u001b[0merror\u001b[0m\u001b[0;34m)\u001b[0m\u001b[0;34m\u001b[0m\u001b[0;34m\u001b[0m\u001b[0m\n",
            "\u001b[0;32m/usr/lib/python3.7/subprocess.py\u001b[0m in \u001b[0;36m__init__\u001b[0;34m(self, args, bufsize, executable, stdin, stdout, stderr, preexec_fn, close_fds, shell, cwd, env, universal_newlines, startupinfo, creationflags, restore_signals, start_new_session, pass_fds, encoding, errors, text)\u001b[0m\n\u001b[1;32m    798\u001b[0m                                 \u001b[0mc2pread\u001b[0m\u001b[0;34m,\u001b[0m \u001b[0mc2pwrite\u001b[0m\u001b[0;34m,\u001b[0m\u001b[0;34m\u001b[0m\u001b[0;34m\u001b[0m\u001b[0m\n\u001b[1;32m    799\u001b[0m                                 \u001b[0merrread\u001b[0m\u001b[0;34m,\u001b[0m \u001b[0merrwrite\u001b[0m\u001b[0;34m,\u001b[0m\u001b[0;34m\u001b[0m\u001b[0;34m\u001b[0m\u001b[0m\n\u001b[0;32m--> 800\u001b[0;31m                                 restore_signals, start_new_session)\n\u001b[0m\u001b[1;32m    801\u001b[0m         \u001b[0;32mexcept\u001b[0m\u001b[0;34m:\u001b[0m\u001b[0;34m\u001b[0m\u001b[0;34m\u001b[0m\u001b[0m\n\u001b[1;32m    802\u001b[0m             \u001b[0;31m# Cleanup if the child failed starting.\u001b[0m\u001b[0;34m\u001b[0m\u001b[0;34m\u001b[0m\u001b[0;34m\u001b[0m\u001b[0m\n",
            "\u001b[0;32m/usr/lib/python3.7/subprocess.py\u001b[0m in \u001b[0;36m_execute_child\u001b[0;34m(self, args, executable, preexec_fn, close_fds, pass_fds, cwd, env, startupinfo, creationflags, shell, p2cread, p2cwrite, c2pread, c2pwrite, errread, errwrite, restore_signals, start_new_session)\u001b[0m\n\u001b[1;32m   1549\u001b[0m                         \u001b[0;32mif\u001b[0m \u001b[0merrno_num\u001b[0m \u001b[0;34m==\u001b[0m \u001b[0merrno\u001b[0m\u001b[0;34m.\u001b[0m\u001b[0mENOENT\u001b[0m\u001b[0;34m:\u001b[0m\u001b[0;34m\u001b[0m\u001b[0;34m\u001b[0m\u001b[0m\n\u001b[1;32m   1550\u001b[0m                             \u001b[0merr_msg\u001b[0m \u001b[0;34m+=\u001b[0m \u001b[0;34m': '\u001b[0m \u001b[0;34m+\u001b[0m \u001b[0mrepr\u001b[0m\u001b[0;34m(\u001b[0m\u001b[0merr_filename\u001b[0m\u001b[0;34m)\u001b[0m\u001b[0;34m\u001b[0m\u001b[0;34m\u001b[0m\u001b[0m\n\u001b[0;32m-> 1551\u001b[0;31m                     \u001b[0;32mraise\u001b[0m \u001b[0mchild_exception_type\u001b[0m\u001b[0;34m(\u001b[0m\u001b[0merrno_num\u001b[0m\u001b[0;34m,\u001b[0m \u001b[0merr_msg\u001b[0m\u001b[0;34m,\u001b[0m \u001b[0merr_filename\u001b[0m\u001b[0;34m)\u001b[0m\u001b[0;34m\u001b[0m\u001b[0;34m\u001b[0m\u001b[0m\n\u001b[0m\u001b[1;32m   1552\u001b[0m                 \u001b[0;32mraise\u001b[0m \u001b[0mchild_exception_type\u001b[0m\u001b[0;34m(\u001b[0m\u001b[0merr_msg\u001b[0m\u001b[0;34m)\u001b[0m\u001b[0;34m\u001b[0m\u001b[0;34m\u001b[0m\u001b[0m\n\u001b[1;32m   1553\u001b[0m \u001b[0;34m\u001b[0m\u001b[0m\n",
            "\u001b[0;31mFileNotFoundError\u001b[0m: [Errno 2] No such file or directory: 'for': 'for'"
          ]
        }
      ]
    }
  ]
}