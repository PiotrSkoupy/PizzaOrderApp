{
  "nbformat": 4,
  "nbformat_minor": 0,
  "metadata": {
    "colab": {
      "name": "RozpoznawanieZUM1",
      "provenance": [],
      "collapsed_sections": [],
      "include_colab_link": true
    },
    "kernelspec": {
      "display_name": "Python 3 (ipykernel)",
      "language": "python",
      "name": "python3"
    },
    "language_info": {
      "codemirror_mode": {
        "name": "ipython",
        "version": 3
      },
      "file_extension": ".py",
      "mimetype": "text/x-python",
      "name": "python",
      "nbconvert_exporter": "python",
      "pygments_lexer": "ipython3",
      "version": "3.9.7"
    }
  },
  "cells": [
    {
      "cell_type": "markdown",
      "metadata": {
        "id": "view-in-github",
        "colab_type": "text"
      },
      "source": [
        "<a href=\"https://colab.research.google.com/github/PiotrSkoupy/PizzaOrderApp/blob/main/RozpoznawanieZUM1.ipynb\" target=\"_parent\"><img src=\"https://colab.research.google.com/assets/colab-badge.svg\" alt=\"Open In Colab\"/></a>"
      ]
    },
    {
      "cell_type": "code",
      "metadata": {
        "id": "V0uVfJ_EzeAb"
      },
      "source": [
        "%%capture\n",
        "!wget  https://github.com/PiotrSkoupy/PizzaOrderApp/blob/main/pizza-audio.zip?raw=true -O  pizza-audio.zip\n",
        "!unzip pizza-audio\n",
        "%rm pizza-audio.zip\n",
        "!wget  https://raw.githubusercontent.com/PiotrSkoupy/PizzaOrderApp/main/pizza-text -O pizza-text"
      ],
      "execution_count": 1,
      "outputs": []
    },
    {
      "cell_type": "code",
      "metadata": {
        "id": "KXc89OlivxgD"
      },
      "source": [
        "%%capture\n",
        "!wget https://github.com/danijel3/ASRforNLP/releases/download/v1.0/kaldi.tar.xz\n",
        "!tar xvf kaldi.tar.xz -C / > /dev/null\n",
        "%rm kaldi.tar.xz\n",
        "!for f in $(find /opt/kaldi -name *.so*) ; do ln -sf $f /usr/local/lib/$(basename $f) ; done\n",
        "!for f in $(find /opt/kaldi/src -not -name *.so* -type f -executable) ; do ln -s $f /usr/local/bin/$(basename $f) ; done\n",
        "!for f in $(find /opt/kaldi/tools -not -name *.so* -type f -executable) ; do ln -s $f /usr/local/bin/$(basename $f) ; done\n",
        "!ldconfig\n",
        "!wget https://raw.githubusercontent.com/danijel3/ASRforNLP/main/lexicon.py\n",
        "!pip install openfst_python\n",
        "!pip install arpa\n",
        "import arpa\n",
        "import openfst_python as fst\n",
        "from lexicon import words_to_lexicon"
      ],
      "execution_count": 2,
      "outputs": []
    },
    {
      "cell_type": "markdown",
      "metadata": {
        "id": "HTDSp7F3H-Ip"
      },
      "source": [
        "Następnie ściągniemy przykładowe nagrania i zbiór tekstów do trenowania modelu języka."
      ]
    },
    {
      "cell_type": "code",
      "metadata": {
        "id": "oUwdBgYwUpLy"
      },
      "source": [
        "%%capture\n",
        "!wget https://github.com/danijel3/ASRforNLP/releases/download/v1.2/models.tar.xz\n",
        "!tar xvf models.tar.xz > /dev/null\n",
        "%rm models.tar.xz"
      ],
      "execution_count": 3,
      "outputs": []
    },
    {
      "cell_type": "code",
      "metadata": {
        "id": "OIfPcwgnP0pp",
        "colab": {
          "base_uri": "https://localhost:8080/"
        },
        "outputId": "cbb840e3-21e5-4d54-a8ce-b380125d9ddb"
      },
      "source": [
        "%mkdir grammar\n",
        "%cd grammar\n",
        "!ln -s ../phonetisaurus\n",
        "!ln -s ../online\n",
        "!ln -s ../pizza-audio\n",
        "%cd /content\n",
        "%mkdir lm\n",
        "%cd lm\n",
        "!ln -s ../phonetisaurus\n",
        "!ln -s ../online\n",
        "!ln -s ../pizza-audio\n",
        "!ln -s ../pizza-text\n",
        "!ngram-count -order 3 -interpolate -unk -kndiscount -text pizza-text -write-vocab word.list -lm pizza.arpa\n",
        "%rm pizza.arpa.gz\n",
        "!gzip pizza.arpa"
      ],
      "execution_count": 4,
      "outputs": [
        {
          "output_type": "stream",
          "name": "stdout",
          "text": [
            "/content/grammar\n",
            "/content\n",
            "/content/lm\n",
            "rm: cannot remove 'pizza.arpa.gz': No such file or directory\n"
          ]
        }
      ]
    },
    {
      "cell_type": "markdown",
      "metadata": {
        "id": "ib-rti5wgdZH"
      },
      "source": [
        "Wygenerujemy przykładowe zdania z tego modelu języka:"
      ]
    },
    {
      "cell_type": "markdown",
      "metadata": {
        "id": "FAZAkBO_jt0u"
      },
      "source": [
        "### Utworzenie trankrypcji fonetycznej\n"
      ]
    },
    {
      "cell_type": "code",
      "metadata": {
        "id": "jvRhX8n6OZuu",
        "outputId": "20acdde2-9323-47d3-954f-cae2188d7887",
        "colab": {
          "base_uri": "https://localhost:8080/"
        }
      },
      "source": [
        "words=[]\n",
        "with open('word.list') as f:\n",
        "  for l in f:\n",
        "    w=l.strip()\n",
        "\n",
        "    if w is not None and w!=' ' and w!='-pau-'  and w!='<s>'  and w!='</s>' and len(w)>=3 and w.isalpha()  :\n",
        "      s= w.strip(')')\n",
        "      s= w.strip('(')\n",
        "      s= w.strip('-')\n",
        "      s= w.strip('<')\n",
        "      s = w.strip(',')\n",
        "      s=s.strip('.')\n",
        "      s=s.strip('?')\n",
        "      s=s.strip('.);')\n",
        "      words.append(s)\n",
        "psyms,wsyms,L=words_to_lexicon(words)\n",
        "!wc -l word.list"
      ],
      "execution_count": 5,
      "outputs": [
        {
          "output_type": "stream",
          "name": "stdout",
          "text": [
            "52758 word.list\n"
          ]
        }
      ]
    },
    {
      "cell_type": "markdown",
      "metadata": {
        "id": "oCEwcE9XhEwa"
      },
      "source": [
        "Tworzenie HCLG.fst"
      ]
    },
    {
      "cell_type": "code",
      "metadata": {
        "id": "1bxAIHU2RNzX"
      },
      "source": [
        "%%capture\n",
        "L.set_input_symbols(psyms)\n",
        "L.set_output_symbols(wsyms)\n",
        "L.write('L.fst')\n",
        "!grep '#0' phones.txt | cut -f2 -d' ' > wdisambig_phones.int\n",
        "!grep '#0' words.txt | cut -f2 -d' ' > wdisambig_words.int\n",
        "!fstaddselfloops wdisambig_phones.int wdisambig_words.int < L.fst | fstarcsort --sort_type=olabel > L_disambig.fst\n",
        "!gunzip -c pizza.arpa.gz | arpa2fst --disambig-symbol=\"#0\" --read-symbol-table=words.txt - G.fst\n",
        "!fsttablecompose L_disambig.fst G.fst | fstdeterminizestar --use-log=true | fstminimizeencoded | fstpushspecial > LG.fst\n",
        "!fstcomposecontext --context-size=2 --central-position=1 --read-disambig-syms=disambig.int --write-disambig-syms=disambig_ilabels.int ilabels LG.fst | fstarcsort --sort_type=ilabel > CLG.fst\n",
        "!make-h-transducer --disambig-syms-out=disambig_tid.int --transition-scale=1.0 ilabels online/tree online/final.mdl H.fst\n",
        "!fsttablecompose H.fst CLG.fst - | fstdeterminizestar --use-log=true - - | fstrmsymbols disambig_tid.int - - | fstminimizeencoded - - | add-self-loops --self-loop-scale=0.1 --reorder=true online/final.mdl - HCLG.fst"
      ],
      "execution_count": 6,
      "outputs": []
    },
    {
      "cell_type": "markdown",
      "metadata": {
        "id": "2OXPYGNYkeV1"
      },
      "source": [
        "### Rozpoznawanie mowy\n",
        "\n",
        "Tworzymy listę plików `wav.scp` i `spk2utt` z katalogu `pizza-audio`:"
      ]
    },
    {
      "cell_type": "code",
      "metadata": {
        "id": "_0m19nKAXUyI"
      },
      "source": [
        "%%bash\n",
        "for f in pizza-audio/*.wav ; do echo $(basename $f .wav) $(readlink -f $f) ; done > wav.scp\n",
        "cut -f1 -d' ' wav.scp | awk '{print $1, $1}' > spk2utt"
      ],
      "execution_count": 7,
      "outputs": []
    },
    {
      "cell_type": "markdown",
      "metadata": {
        "id": "923w53NZuHS4"
      },
      "source": [
        "Rozpoznajemy dzwieki z katalogu pizza-audio"
      ]
    },
    {
      "cell_type": "code",
      "metadata": {
        "id": "Ns453JqVXsB_",
        "colab": {
          "base_uri": "https://localhost:8080/"
        },
        "outputId": "e866594f-194a-46ce-847e-d1f705da6a82"
      },
      "source": [
        "!online2-wav-nnet3-latgen-faster --word-symbol-table=words.txt --config=online/conf/online.conf online/final.mdl HCLG.fst ark:spk2utt scp:wav.scp ark:lat"
      ],
      "execution_count": 9,
      "outputs": [
        {
          "output_type": "stream",
          "name": "stdout",
          "text": [
            "online2-wav-nnet3-latgen-faster --word-symbol-table=words.txt --config=online/conf/online.conf online/final.mdl HCLG.fst ark:spk2utt scp:wav.scp ark:lat \n",
            "LOG (online2-wav-nnet3-latgen-faster[5.5.971~1-07043]:ComputeDerivedVars():ivector-extractor.cc:183) Computing derived variables for iVector extractor\n",
            "LOG (online2-wav-nnet3-latgen-faster[5.5.971~1-07043]:ComputeDerivedVars():ivector-extractor.cc:204) Done.\n",
            "LOG (online2-wav-nnet3-latgen-faster[5.5.971~1-07043]:RemoveOrphanNodes():nnet-nnet.cc:948) Removed 1 orphan nodes.\n",
            "LOG (online2-wav-nnet3-latgen-faster[5.5.971~1-07043]:RemoveOrphanComponents():nnet-nnet.cc:847) Removing 2 orphan components.\n",
            "LOG (online2-wav-nnet3-latgen-faster[5.5.971~1-07043]:Collapse():nnet-utils.cc:1488) Added 1 components, removed 2\n",
            "LOG (online2-wav-nnet3-latgen-faster[5.5.971~1-07043]:CompileLooped():nnet-compile-looped.cc:345) Spent 0.00840902 seconds in looped compilation.\n",
            "Plik1_ZUM10 nie nia chca \n",
            "LOG (online2-wav-nnet3-latgen-faster[5.5.971~1-07043]:main():online2-wav-nnet3-latgen-faster.cc:296) Decoded utterance Plik1_ZUM10\n",
            "Plik1_ZUM11 raczej tak poprosze \n",
            "LOG (online2-wav-nnet3-latgen-faster[5.5.971~1-07043]:main():online2-wav-nnet3-latgen-faster.cc:296) Decoded utterance Plik1_ZUM11\n",
            "Plik1_ZUM12 tomiast mają ulubiona dyscyplinach Nie chce \n",
            "LOG (online2-wav-nnet3-latgen-faster[5.5.971~1-07043]:main():online2-wav-nnet3-latgen-faster.cc:296) Decoded utterance Plik1_ZUM12\n",
            "Plik1_ZUM13 Poza tym miejscu poprosze \n",
            "LOG (online2-wav-nnet3-latgen-faster[5.5.971~1-07043]:main():online2-wav-nnet3-latgen-faster.cc:296) Decoded utterance Plik1_ZUM13\n",
            "Plik1_ZUM14 szklanka salami pieczarki ricottą \n",
            "LOG (online2-wav-nnet3-latgen-faster[5.5.971~1-07043]:main():online2-wav-nnet3-latgen-faster.cc:296) Decoded utterance Plik1_ZUM14\n",
            "Plik1_ZUM15 sos pomidorowy moca rola Margalit tam \n",
            "LOG (online2-wav-nnet3-latgen-faster[5.5.971~1-07043]:main():online2-wav-nnet3-latgen-faster.cc:296) Decoded utterance Plik1_ZUM15\n",
            "Plik1_ZUM16 funkcji Margalit tak \n",
            "LOG (online2-wav-nnet3-latgen-faster[5.5.971~1-07043]:main():online2-wav-nnet3-latgen-faster.cc:296) Decoded utterance Plik1_ZUM16\n",
            "Plik1_ZUM17 proza prasza zmywala calkiem \n",
            "LOG (online2-wav-nnet3-latgen-faster[5.5.971~1-07043]:main():online2-wav-nnet3-latgen-faster.cc:296) Decoded utterance Plik1_ZUM17\n",
            "Plik1_ZUM18 nie dziekuje niepokojaca \n",
            "LOG (online2-wav-nnet3-latgen-faster[5.5.971~1-07043]:main():online2-wav-nnet3-latgen-faster.cc:296) Decoded utterance Plik1_ZUM18\n",
            "Plik1_ZUM19 tak chca zamowic pierwsza \n",
            "LOG (online2-wav-nnet3-latgen-faster[5.5.971~1-07043]:main():online2-wav-nnet3-latgen-faster.cc:296) Decoded utterance Plik1_ZUM19\n",
            "Plik1_ZUM1 sta salami sera szeregach cel poza mówić \n",
            "LOG (online2-wav-nnet3-latgen-faster[5.5.971~1-07043]:main():online2-wav-nnet3-latgen-faster.cc:296) Decoded utterance Plik1_ZUM1\n",
            "Plik1_ZUM20 poprosze jeszcze coś \n",
            "LOG (online2-wav-nnet3-latgen-faster[5.5.971~1-07043]:main():online2-wav-nnet3-latgen-faster.cc:296) Decoded utterance Plik1_ZUM20\n",
            "Plik1_ZUM21 także cza sobie jeszcze wiecej \n",
            "LOG (online2-wav-nnet3-latgen-faster[5.5.971~1-07043]:main():online2-wav-nnet3-latgen-faster.cc:296) Decoded utterance Plik1_ZUM21\n",
            "Plik1_ZUM22 raczej nie kierunku jak \n",
            "LOG (online2-wav-nnet3-latgen-faster[5.5.971~1-07043]:main():online2-wav-nnet3-latgen-faster.cc:296) Decoded utterance Plik1_ZUM22\n",
            "Plik1_ZUM23 Ulice boska szeroka Najnowsza \n",
            "LOG (online2-wav-nnet3-latgen-faster[5.5.971~1-07043]:main():online2-wav-nnet3-latgen-faster.cc:296) Decoded utterance Plik1_ZUM23\n",
            "Plik1_ZUM24 rematyczną sprowadzic \n",
            "LOG (online2-wav-nnet3-latgen-faster[5.5.971~1-07043]:main():online2-wav-nnet3-latgen-faster.cc:296) Decoded utterance Plik1_ZUM24\n",
            "Plik1_ZUM25 ulica siedem Johan jadano szpare \n",
            "LOG (online2-wav-nnet3-latgen-faster[5.5.971~1-07043]:main():online2-wav-nnet3-latgen-faster.cc:296) Decoded utterance Plik1_ZUM25\n",
            "Plik1_ZUM26 kiedy dwa czy czterech pięć \n",
            "LOG (online2-wav-nnet3-latgen-faster[5.5.971~1-07043]:main():online2-wav-nnet3-latgen-faster.cc:296) Decoded utterance Plik1_ZUM26\n",
            "Plik1_ZUM27 siedem osiem dziesięciu jeden ścia trzema ścia \n",
            "LOG (online2-wav-nnet3-latgen-faster[5.5.971~1-07043]:main():online2-wav-nnet3-latgen-faster.cc:296) Decoded utterance Plik1_ZUM27\n",
            "Plik1_ZUM28 kapary pieczarki cebula czosnek \n",
            "LOG (online2-wav-nnet3-latgen-faster[5.5.971~1-07043]:main():online2-wav-nnet3-latgen-faster.cc:296) Decoded utterance Plik1_ZUM28\n",
            "Plik1_ZUM29 szklanka Parmenon Ogórki mleko \n",
            "LOG (online2-wav-nnet3-latgen-faster[5.5.971~1-07043]:main():online2-wav-nnet3-latgen-faster.cc:296) Decoded utterance Plik1_ZUM29\n",
            "Plik1_ZUM2 mają ulubiona dyscyplin nasze naczynka \n",
            "LOG (online2-wav-nnet3-latgen-faster[5.5.971~1-07043]:main():online2-wav-nnet3-latgen-faster.cc:296) Decoded utterance Plik1_ZUM2\n",
            "Plik1_ZUM3 czy chciałby pan zamówić salami \n",
            "LOG (online2-wav-nnet3-latgen-faster[5.5.971~1-07043]:main():online2-wav-nnet3-latgen-faster.cc:296) Decoded utterance Plik1_ZUM3\n",
            "Plik1_ZUM4 Pieczarki Parmenon tom włoskiej \n",
            "LOG (online2-wav-nnet3-latgen-faster[5.5.971~1-07043]:main():online2-wav-nnet3-latgen-faster.cc:296) Decoded utterance Plik1_ZUM4\n",
            "Plik1_ZUM5 pomidorowy Jest zatem chcialbym zamówić domu jego \n",
            "LOG (online2-wav-nnet3-latgen-faster[5.5.971~1-07043]:main():online2-wav-nnet3-latgen-faster.cc:296) Decoded utterance Plik1_ZUM5\n",
            "Plik1_ZUM6 moj dom jego Adres \n",
            "LOG (online2-wav-nnet3-latgen-faster[5.5.971~1-07043]:main():online2-wav-nnet3-latgen-faster.cc:296) Decoded utterance Plik1_ZUM6\n",
            "Plik1_ZUM7 Najnowsza sób skrypt poprosze \n",
            "LOG (online2-wav-nnet3-latgen-faster[5.5.971~1-07043]:main():online2-wav-nnet3-latgen-faster.cc:296) Decoded utterance Plik1_ZUM7\n",
            "Plik1_ZUM8 moja Uwielbiana typologia \n",
            "LOG (online2-wav-nnet3-latgen-faster[5.5.971~1-07043]:main():online2-wav-nnet3-latgen-faster.cc:296) Decoded utterance Plik1_ZUM8\n",
            "Plik1_ZUM9 tam starala sie Chcialabym zamówić Vica \n",
            "LOG (online2-wav-nnet3-latgen-faster[5.5.971~1-07043]:main():online2-wav-nnet3-latgen-faster.cc:296) Decoded utterance Plik1_ZUM9\n",
            "LOG (online2-wav-nnet3-latgen-faster[5.5.971~1-07043]:Print():online-timing.cc:36) Timing stats: real-time factor was 1.00544 (note: this cannot be less than one.)\n",
            "LOG (online2-wav-nnet3-latgen-faster[5.5.971~1-07043]:Print():online-timing.cc:38) Average delay was 0.0271762 seconds.\n",
            "LOG (online2-wav-nnet3-latgen-faster[5.5.971~1-07043]:Print():online-timing.cc:42) Percentage of time spent idling was 96.5727\n",
            "LOG (online2-wav-nnet3-latgen-faster[5.5.971~1-07043]:Print():online-timing.cc:44) Longest delay was 0.141093 seconds for utterance 'Plik1_ZUM25'\n",
            "LOG (online2-wav-nnet3-latgen-faster[5.5.971~1-07043]:main():online2-wav-nnet3-latgen-faster.cc:302) Decoded 29 utterances, 0 with errors.\n",
            "LOG (online2-wav-nnet3-latgen-faster[5.5.971~1-07043]:main():online2-wav-nnet3-latgen-faster.cc:304) Overall likelihood per frame was 1.94738 per frame over 4814 frames.\n"
          ]
        }
      ]
    },
    {
      "cell_type": "code",
      "source": [
        ""
      ],
      "metadata": {
        "id": "4zotg9xMXq2O"
      },
      "execution_count": 9,
      "outputs": []
    }
  ]
}